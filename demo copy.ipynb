{
 "cells": [
  {
   "cell_type": "code",
   "execution_count": null,
   "id": "25f8dc50",
   "metadata": {},
   "outputs": [],
   "source": [
    "import re \n",
    "\n",
    "from langchain_openai import OpenAIEmbeddings\n",
    "from openai import OpenAI\n",
    "from langchain.text_splitter import RecursiveCharacterTextSplitter\n",
    "from langchain_community.document_loaders  import PyPDFLoader\n",
    "from langchain_openai import ChatOpenAI\n",
    "from langchain.prompts import PromptTemplate\n",
    "from langchain.chains import RetrievalQA\n",
    "\n",
    "\n",
    "\n",
    "from langchain_community.vectorstores import FAISS"
   ]
  },
  {
   "cell_type": "markdown",
   "id": "e62789d6",
   "metadata": {},
   "source": [
    "### Langgraph docs loader\n"
   ]
  },
  {
   "cell_type": "code",
   "execution_count": null,
   "id": "70cba3b3",
   "metadata": {},
   "outputs": [],
   "source": [
    "from langchain_community.document_loaders  import PyPDFLoader\n",
    "\n",
    "\n",
    "loader = PyPDFLoader(\"./data/PERMENPAN NOMOR 38 TAHUN 2017.pdf\")\n",
    "documents = loader.load()"
   ]
  },
  {
   "cell_type": "code",
   "execution_count": null,
   "id": "a91667ba",
   "metadata": {},
   "outputs": [
    {
     "data": {
      "text/plain": [
       "Document(metadata={'producer': 'PyPDF', 'creator': 'PyPDF', 'creationdate': '', 'source': './data/PERMENPAN NOMOR 38 TAHUN 2017.pdf', 'total_pages': 108, 'page': 0, 'page_label': '1'}, page_content='PERATURAN MENTERI PENDAYAGUNAAN APARATUR NEGARA DAN\\nREFORMASI BIROKRASI REPUBLIK INDONESIA\\nNOMOR 38 TAHUN 2017\\nTENTANG\\nSTANDAR KOMPETENSI JABATAN APARATUR SIPIL NEGARA\\nDENGAN RAHMAT TUHAN YANG MAHA ESA\\nMENTERI PENDAYAGUNAAN APARATUR NEGARA\\nDAN REFORMASI BIROKRASI REPUBLIK INDONESIA,\\nMenimbang : bahwa untuk melaksanakan ketentuan Pasal 55 ayat (5),\\nPasal 109 ayat (4) dan ayat (5) dan Pasal 166 ayat (2)\\nPeraturan Pemerintah Nomor 11 Tahun 2017 tentang\\nManajemen Pegawai Negeri Sipil, perlu menetapkan Peraturan\\nMenteri Pendayagunaan Aparatur Negara dan Reformasi\\nBirokrasi tentang Standar Kompetensi Jabatan Aparatur Sipil\\nNegara;\\nMengingat : 1. Undang-Undang Nomor 5 Tahun 2014 tentang Aparatur\\nSipil Negara (Lembaran Negara Republik Indonesia Tahun\\n2014 Nomor 6, Tambahan Lembaran Negara Republik\\nIndonesia Nomor 5494);\\n2. Peraturan Pemerintah Nomor 11 Tahun 2017 tentang\\nManajemen Pegawai Negeri Sipil (Lembaran Negara\\nRepublik Indonesia Tahun 2017 Nomor 63, Tambahan\\nLembaran Negara Republik Indonesia Nomor 6037);\\n3. Peraturan Presiden Nomor 8 Tahun 2012 tentang\\nKerangka Kualifikasi Nasional Indonesia (Lembaran\\nNegara Republik Indonesia Tahun 2012 Nomor 24);')"
      ]
     },
     "execution_count": 35,
     "metadata": {},
     "output_type": "execute_result"
    }
   ],
   "source": [
    "documents[0]"
   ]
  },
  {
   "cell_type": "code",
   "execution_count": null,
   "id": "c2539b64",
   "metadata": {},
   "outputs": [
    {
     "name": "stdout",
     "output_type": "stream",
     "text": [
      "{'producer': 'PyPDF',\n",
      " 'creator': 'PyPDF',\n",
      " 'creationdate': '',\n",
      " 'source': './data/PERMENPAN NOMOR 38 TAHUN 2017.pdf',\n",
      " 'total_pages': 108,\n",
      " 'page': 0,\n",
      " 'page_label': '1'}\n"
     ]
    }
   ],
   "source": [
    "import pprint\n",
    "\n",
    "pprint.pp(documents[0].metadata)"
   ]
  },
  {
   "cell_type": "markdown",
   "id": "60249ee0",
   "metadata": {},
   "source": [
    "### Preprocessing"
   ]
  },
  {
   "cell_type": "code",
   "execution_count": null,
   "id": "e51e9ebf",
   "metadata": {},
   "outputs": [],
   "source": [
    "import re \n",
    "def preprocess(text): \n",
    "    # Menghilangkan footer nomor halaman seperti \"- 5 -\"\n",
    "    text = re.sub(r'-\\s*\\d+\\s*-', '', text)\n",
    "    text = re.sub(r'\\n\\s*\\n', '\\n\\n', text)\n",
    "    text = re.sub(r'\\n(?!\\n)', ' ', text)\n",
    "    text = re.sub(r' +', ' ', text)\n",
    "\n",
    "    return text.strip().lower()\n",
    "\n",
    "for doc in documents:\n",
    "    doc.page_content = preprocess(doc.page_content) \n",
    "\n"
   ]
  },
  {
   "cell_type": "code",
   "execution_count": null,
   "id": "69a8b468",
   "metadata": {},
   "outputs": [
    {
     "data": {
      "text/plain": [
       "[Document(metadata={'producer': 'PyPDF', 'creator': 'PyPDF', 'creationdate': '', 'source': './data/PERMENPAN NOMOR 38 TAHUN 2017.pdf', 'total_pages': 108, 'page': 0, 'page_label': '1'}, page_content='peraturan menteri pendayagunaan aparatur negara dan reformasi birokrasi republik indonesia nomor 38 tahun 2017 tentang standar kompetensi jabatan aparatur sipil negara dengan rahmat tuhan yang maha esa menteri pendayagunaan aparatur negara dan reformasi birokrasi republik indonesia, menimbang : bahwa untuk melaksanakan ketentuan pasal 55 ayat (5), pasal 109 ayat (4) dan ayat (5) dan pasal 166 ayat (2) peraturan pemerintah nomor 11 tahun 2017 tentang manajemen pegawai negeri sipil, perlu menetapkan peraturan menteri pendayagunaan aparatur negara dan reformasi birokrasi tentang standar kompetensi jabatan aparatur sipil negara; mengingat : 1. undang-undang nomor 5 tahun 2014 tentang aparatur sipil negara (lembaran negara republik indonesia tahun 2014 nomor 6, tambahan lembaran negara republik indonesia nomor 5494); 2. peraturan pemerintah nomor 11 tahun 2017 tentang manajemen pegawai negeri sipil (lembaran negara republik indonesia tahun 2017 nomor 63, tambahan lembaran negara republik indonesia nomor 6037); 3. peraturan presiden nomor 8 tahun 2012 tentang kerangka kualifikasi nasional indonesia (lembaran negara republik indonesia tahun 2012 nomor 24);'),\n",
       " Document(metadata={'producer': 'PyPDF', 'creator': 'PyPDF', 'creationdate': '', 'source': './data/PERMENPAN NOMOR 38 TAHUN 2017.pdf', 'total_pages': 108, 'page': 1, 'page_label': '2'}, page_content='4. peraturan presiden nomor 7 tahun 2015 tentang organisasi kementerian negara (lembaran negara republik indonesia tahun 2015 nomor 8); 5. peraturan presiden nomor 47 tahun 2015 tentang kementerian pendayagunaan aparatur negara dan reformasi birokrasi (lembaran negara republik indonesia tahun 2015 nomor 89); memutuskan: menetapkan: peraturan menteri pendayagunaan aparatur negara dan reformasi birokrasi tentang standar kompetensi jabatan aparatur sipil negara. pasal 1 dalam peraturan menteri ini yang dimaksud dengan: 1. standar kompetensi jabatan aparatur sipil negara yang selanjutnya disebut standar kompetensi asn adalah deskripsi pengetahuan, keterampilan dan perilaku yang diperlukan seorang aparatur sipil negara dalam melaksanakan tugas jabatan. 2. aparatur sipil negara yang selanjutnya disingkat asn adalah profesi bagi pegawai negeri sipil dan pegawai pemerintah dengan perjanjian kerja yang bekerja pada instansi pemerintah. 3. pegawai aparatur sipil negara yang selanjutnya disebut pegawai asn adalah pegawai negeri sipil dan pegawai pemerintah dengan perjanjian kerja yang diangkat oleh pejabat pembina kepegawaian dan diserahi tugas dalam suatu jabatan pemerintahan atau diserahi tugas negara lainnya dan digaji berdasarkan peraturan perundang- undangan. 4. pegawai negeri sipil yang selanjutnya disingkat pns adalah warga negara indonesia yang memenuhi syarat tertentu, diangkat sebagai pegawai asn secara tetap oleh pejabat pembina kepegawaian untuk menduduki jabatan pemerintahan.'),\n",
       " Document(metadata={'producer': 'PyPDF', 'creator': 'PyPDF', 'creationdate': '', 'source': './data/PERMENPAN NOMOR 38 TAHUN 2017.pdf', 'total_pages': 108, 'page': 2, 'page_label': '3'}, page_content='5. pegawai pemerintah dengan perjanjian kerja yang selanjutnya disingkat pppk adalah warga negara indonesia yang memenuhi syarat tertentu, yang diangkat berdasarkan perjanjian kerja untuk jangka waktu tertentu dalam rangka melaksanakan tugas pemerintahan. 6. sistem merit adalah kebijakan dan manajemen asn yang berdasarkan pada kualifikasi, kompetensi, dan kinerja secara adil dan wajar dengan tanpa membedakan latar belakang politik, ras, warna kulit, agama, asal usul, jenis kelamin, status pernikahan, umur, atau kondisi kecacatan. 7. kompetensi teknis adalah pengetahuan, keterampilan, dan sikap/perilaku yang dapat diamati, diukur dan dikembangkan yang spesifik berkaitan dengan bidang teknis jabatan. 8. kompetensi manajerial adalah pengetahuan, keterampilan, dan sikap/perilaku yang dapat diamati, diukur, dikembangkan untuk memimpin dan/atau mengelola unit organisasi. 9. kompetensi sosial kultural adalah pengetahuan, keterampilan, dan sikap/perilaku yang dapat diamati, diukur, dan dikembangkan terkait dengan pengalaman berinteraksi dengan masyarakat majemuk dalam hal agama, suku dan budaya, perilaku, wawasan kebangsaan, etika, nilai-nilai, moral, emosi dan prinsip, yang harus dipenuhi oleh setiap pemegang jabatan untuk memperoleh hasil kerja sesuai dengan peran, fungsi dan jabatan. 10. jabatan adalah kedudukan yang menunjukkan fungsi, tugas, tanggung jawab, wewenang, dan hak seorang pegawai asn dalam suatu satuan organisasi. 11. ikhtisar jabatan adalah uraian tugas yang disusun secara ringkas dalam bentuk satu kalimat yang mencerminkan pokok-pokok tugas jabatan.'),\n",
       " Document(metadata={'producer': 'PyPDF', 'creator': 'PyPDF', 'creationdate': '', 'source': './data/PERMENPAN NOMOR 38 TAHUN 2017.pdf', 'total_pages': 108, 'page': 3, 'page_label': '4'}, page_content='12. uraian tugas adalah suatu paparan atau bentangan atas semua tugas jabatan yang merupakan tugas pokok yang dilakukan oleh pemangku jabatan dalam memproses bahan kerja menjadi hasil kerja. 13. kamus kompetensi adalah kumpulan kompetensi yang meliputi nama kompetensi, definisi kompetensi, deskripsi dan level kompetensi serta indikator perilaku. 14. instansi pemerintah adalah instansi pusat dan instansi daerah. 15. instansi pusat adalah kementerian, lembaga pemerintah nonkementerian, kesekretariatan lembaga negara, dan kesekretariatan lembaga nonstruktural. 16. instansi daerah adalah perangkat daerah provinsi dan perangkat daerah kabupaten/kota yang meliputi sekretariat daerah, sekretariat dewan perwakilan rakyat daerah, dinas daerah, dan lembaga teknis daerah. 17. pejabat pembina kepegawaian yang selanjutnya disingkat ppk adalah pejabat yang mempunyai kewenangan menetapkan pengangkatan, pemindahan, dan pemberhentian pegawai asn dan pembinaan manajemen asn di instansi pemerintah sesuai dengan ketentuan peraturan perundang-undangan. 18. instansi pengguna adalah kementerian/lembaga, pemerintah provinsi, pemerintah kabupaten/kota yang mempergunakan kamus kompetensi teknis, kamus kompetensi manajerial dan kamus kompetensi sosial kultural dan/atau menggunakan standar kompetensi jabatan. 19. menteri adalah menteri yang menyelenggarakan urusan pemerintahan di bidang pendayagunaan aparatur negara. pasal 2 (1) dalam menyelenggarakan manajemen aparatur sipil negara berbasis sistem merit, setiap instansi pemerintah harus menyusun standar kompetensi asn.'),\n",
       " Document(metadata={'producer': 'PyPDF', 'creator': 'PyPDF', 'creationdate': '', 'source': './data/PERMENPAN NOMOR 38 TAHUN 2017.pdf', 'total_pages': 108, 'page': 4, 'page_label': '5'}, page_content='(2) standar kompetensi asn yang telah disusun oleh instansi pemerintah sebagaimana dimaksud pada ayat (1) ditetapkan oleh menteri. pasal 3 standar kompetensi asn sebagaimana dimaksud dalam pasal 2 meliputi: a. identitas jabatan; b. kompetensi jabatan; dan c. persyaratan jabatan. pasal 4 (1) identitas jabatan sebagaimana dimaksud dalam pasal 3 huruf a paling sedikit terdiri atas: a. nama jabatan; b. uraian/ihtisar jabatan; dan c. kode jabatan. (2) kompetensi jabatan sebagaimana dimaksud dalam pasal 3 huruf b terdiri atas: a. kompetensi teknis; b. kompetensi manajerial; dan c. kompetensi sosial kultural. (3) persyaratan jabatan sebagaimana dimaksud dalam pasal 3 huruf c paling sedikit terdiri atas: a. pangkat; b. kualifikasi pendidikan; c. jenis pelatihan; d. ukuran kinerja jabatan; dan e. pengalaman kerja. pasal 5 standar kompetensi asn terdiri atas: a. standar kompetensi jabatan pimpinan tinggi; b. standar kompetensi jabatan administrasi; dan c. standar kompetensi jabatan fungsional.')]"
      ]
     },
     "execution_count": 38,
     "metadata": {},
     "output_type": "execute_result"
    }
   ],
   "source": [
    "documents[0:5]"
   ]
  },
  {
   "cell_type": "code",
   "execution_count": null,
   "id": "09a2d337",
   "metadata": {},
   "outputs": [],
   "source": [
    "text_splitter = RecursiveCharacterTextSplitter(\n",
    "    chunk_size=1000,    \n",
    "    chunk_overlap=200,  \n",
    "    length_function=len\n",
    ")\n",
    "\n",
    "\n",
    "\n",
    "docs_split = text_splitter.split_documents(documents)"
   ]
  },
  {
   "cell_type": "code",
   "execution_count": null,
   "id": "af2e4f55",
   "metadata": {},
   "outputs": [
    {
     "data": {
      "text/plain": [
       "[Document(metadata={'producer': 'PyPDF', 'creator': 'PyPDF', 'creationdate': '', 'source': './data/PERMENPAN NOMOR 38 TAHUN 2017.pdf', 'total_pages': 108, 'page': 0, 'page_label': '1'}, page_content='peraturan menteri pendayagunaan aparatur negara dan reformasi birokrasi republik indonesia nomor 38 tahun 2017 tentang standar kompetensi jabatan aparatur sipil negara dengan rahmat tuhan yang maha esa menteri pendayagunaan aparatur negara dan reformasi birokrasi republik indonesia, menimbang : bahwa untuk melaksanakan ketentuan pasal 55 ayat (5), pasal 109 ayat (4) dan ayat (5) dan pasal 166 ayat (2) peraturan pemerintah nomor 11 tahun 2017 tentang manajemen pegawai negeri sipil, perlu menetapkan peraturan menteri pendayagunaan aparatur negara dan reformasi birokrasi tentang standar kompetensi jabatan aparatur sipil negara; mengingat : 1. undang-undang nomor 5 tahun 2014 tentang aparatur sipil negara (lembaran negara republik indonesia tahun 2014 nomor 6, tambahan lembaran negara republik indonesia nomor 5494); 2. peraturan pemerintah nomor 11 tahun 2017 tentang manajemen pegawai negeri sipil (lembaran negara republik indonesia tahun 2017 nomor 63, tambahan lembaran negara republik'),\n",
       " Document(metadata={'producer': 'PyPDF', 'creator': 'PyPDF', 'creationdate': '', 'source': './data/PERMENPAN NOMOR 38 TAHUN 2017.pdf', 'total_pages': 108, 'page': 0, 'page_label': '1'}, page_content='indonesia nomor 5494); 2. peraturan pemerintah nomor 11 tahun 2017 tentang manajemen pegawai negeri sipil (lembaran negara republik indonesia tahun 2017 nomor 63, tambahan lembaran negara republik indonesia nomor 6037); 3. peraturan presiden nomor 8 tahun 2012 tentang kerangka kualifikasi nasional indonesia (lembaran negara republik indonesia tahun 2012 nomor 24);'),\n",
       " Document(metadata={'producer': 'PyPDF', 'creator': 'PyPDF', 'creationdate': '', 'source': './data/PERMENPAN NOMOR 38 TAHUN 2017.pdf', 'total_pages': 108, 'page': 1, 'page_label': '2'}, page_content='4. peraturan presiden nomor 7 tahun 2015 tentang organisasi kementerian negara (lembaran negara republik indonesia tahun 2015 nomor 8); 5. peraturan presiden nomor 47 tahun 2015 tentang kementerian pendayagunaan aparatur negara dan reformasi birokrasi (lembaran negara republik indonesia tahun 2015 nomor 89); memutuskan: menetapkan: peraturan menteri pendayagunaan aparatur negara dan reformasi birokrasi tentang standar kompetensi jabatan aparatur sipil negara. pasal 1 dalam peraturan menteri ini yang dimaksud dengan: 1. standar kompetensi jabatan aparatur sipil negara yang selanjutnya disebut standar kompetensi asn adalah deskripsi pengetahuan, keterampilan dan perilaku yang diperlukan seorang aparatur sipil negara dalam melaksanakan tugas jabatan. 2. aparatur sipil negara yang selanjutnya disingkat asn adalah profesi bagi pegawai negeri sipil dan pegawai pemerintah dengan perjanjian kerja yang bekerja pada instansi pemerintah. 3. pegawai aparatur sipil negara yang selanjutnya disebut'),\n",
       " Document(metadata={'producer': 'PyPDF', 'creator': 'PyPDF', 'creationdate': '', 'source': './data/PERMENPAN NOMOR 38 TAHUN 2017.pdf', 'total_pages': 108, 'page': 1, 'page_label': '2'}, page_content='disingkat asn adalah profesi bagi pegawai negeri sipil dan pegawai pemerintah dengan perjanjian kerja yang bekerja pada instansi pemerintah. 3. pegawai aparatur sipil negara yang selanjutnya disebut pegawai asn adalah pegawai negeri sipil dan pegawai pemerintah dengan perjanjian kerja yang diangkat oleh pejabat pembina kepegawaian dan diserahi tugas dalam suatu jabatan pemerintahan atau diserahi tugas negara lainnya dan digaji berdasarkan peraturan perundang- undangan. 4. pegawai negeri sipil yang selanjutnya disingkat pns adalah warga negara indonesia yang memenuhi syarat tertentu, diangkat sebagai pegawai asn secara tetap oleh pejabat pembina kepegawaian untuk menduduki jabatan pemerintahan.'),\n",
       " Document(metadata={'producer': 'PyPDF', 'creator': 'PyPDF', 'creationdate': '', 'source': './data/PERMENPAN NOMOR 38 TAHUN 2017.pdf', 'total_pages': 108, 'page': 2, 'page_label': '3'}, page_content='5. pegawai pemerintah dengan perjanjian kerja yang selanjutnya disingkat pppk adalah warga negara indonesia yang memenuhi syarat tertentu, yang diangkat berdasarkan perjanjian kerja untuk jangka waktu tertentu dalam rangka melaksanakan tugas pemerintahan. 6. sistem merit adalah kebijakan dan manajemen asn yang berdasarkan pada kualifikasi, kompetensi, dan kinerja secara adil dan wajar dengan tanpa membedakan latar belakang politik, ras, warna kulit, agama, asal usul, jenis kelamin, status pernikahan, umur, atau kondisi kecacatan. 7. kompetensi teknis adalah pengetahuan, keterampilan, dan sikap/perilaku yang dapat diamati, diukur dan dikembangkan yang spesifik berkaitan dengan bidang teknis jabatan. 8. kompetensi manajerial adalah pengetahuan, keterampilan, dan sikap/perilaku yang dapat diamati, diukur, dikembangkan untuk memimpin dan/atau mengelola unit organisasi. 9. kompetensi sosial kultural adalah pengetahuan, keterampilan, dan sikap/perilaku yang dapat diamati, diukur, dan'),\n",
       " Document(metadata={'producer': 'PyPDF', 'creator': 'PyPDF', 'creationdate': '', 'source': './data/PERMENPAN NOMOR 38 TAHUN 2017.pdf', 'total_pages': 108, 'page': 2, 'page_label': '3'}, page_content='diamati, diukur, dikembangkan untuk memimpin dan/atau mengelola unit organisasi. 9. kompetensi sosial kultural adalah pengetahuan, keterampilan, dan sikap/perilaku yang dapat diamati, diukur, dan dikembangkan terkait dengan pengalaman berinteraksi dengan masyarakat majemuk dalam hal agama, suku dan budaya, perilaku, wawasan kebangsaan, etika, nilai-nilai, moral, emosi dan prinsip, yang harus dipenuhi oleh setiap pemegang jabatan untuk memperoleh hasil kerja sesuai dengan peran, fungsi dan jabatan. 10. jabatan adalah kedudukan yang menunjukkan fungsi, tugas, tanggung jawab, wewenang, dan hak seorang pegawai asn dalam suatu satuan organisasi. 11. ikhtisar jabatan adalah uraian tugas yang disusun secara ringkas dalam bentuk satu kalimat yang mencerminkan pokok-pokok tugas jabatan.'),\n",
       " Document(metadata={'producer': 'PyPDF', 'creator': 'PyPDF', 'creationdate': '', 'source': './data/PERMENPAN NOMOR 38 TAHUN 2017.pdf', 'total_pages': 108, 'page': 3, 'page_label': '4'}, page_content='12. uraian tugas adalah suatu paparan atau bentangan atas semua tugas jabatan yang merupakan tugas pokok yang dilakukan oleh pemangku jabatan dalam memproses bahan kerja menjadi hasil kerja. 13. kamus kompetensi adalah kumpulan kompetensi yang meliputi nama kompetensi, definisi kompetensi, deskripsi dan level kompetensi serta indikator perilaku. 14. instansi pemerintah adalah instansi pusat dan instansi daerah. 15. instansi pusat adalah kementerian, lembaga pemerintah nonkementerian, kesekretariatan lembaga negara, dan kesekretariatan lembaga nonstruktural. 16. instansi daerah adalah perangkat daerah provinsi dan perangkat daerah kabupaten/kota yang meliputi sekretariat daerah, sekretariat dewan perwakilan rakyat daerah, dinas daerah, dan lembaga teknis daerah. 17. pejabat pembina kepegawaian yang selanjutnya disingkat ppk adalah pejabat yang mempunyai kewenangan menetapkan pengangkatan, pemindahan, dan pemberhentian pegawai asn dan pembinaan manajemen asn di instansi pemerintah sesuai'),\n",
       " Document(metadata={'producer': 'PyPDF', 'creator': 'PyPDF', 'creationdate': '', 'source': './data/PERMENPAN NOMOR 38 TAHUN 2017.pdf', 'total_pages': 108, 'page': 3, 'page_label': '4'}, page_content='yang selanjutnya disingkat ppk adalah pejabat yang mempunyai kewenangan menetapkan pengangkatan, pemindahan, dan pemberhentian pegawai asn dan pembinaan manajemen asn di instansi pemerintah sesuai dengan ketentuan peraturan perundang-undangan. 18. instansi pengguna adalah kementerian/lembaga, pemerintah provinsi, pemerintah kabupaten/kota yang mempergunakan kamus kompetensi teknis, kamus kompetensi manajerial dan kamus kompetensi sosial kultural dan/atau menggunakan standar kompetensi jabatan. 19. menteri adalah menteri yang menyelenggarakan urusan pemerintahan di bidang pendayagunaan aparatur negara. pasal 2 (1) dalam menyelenggarakan manajemen aparatur sipil negara berbasis sistem merit, setiap instansi pemerintah harus menyusun standar kompetensi asn.'),\n",
       " Document(metadata={'producer': 'PyPDF', 'creator': 'PyPDF', 'creationdate': '', 'source': './data/PERMENPAN NOMOR 38 TAHUN 2017.pdf', 'total_pages': 108, 'page': 4, 'page_label': '5'}, page_content='(2) standar kompetensi asn yang telah disusun oleh instansi pemerintah sebagaimana dimaksud pada ayat (1) ditetapkan oleh menteri. pasal 3 standar kompetensi asn sebagaimana dimaksud dalam pasal 2 meliputi: a. identitas jabatan; b. kompetensi jabatan; dan c. persyaratan jabatan. pasal 4 (1) identitas jabatan sebagaimana dimaksud dalam pasal 3 huruf a paling sedikit terdiri atas: a. nama jabatan; b. uraian/ihtisar jabatan; dan c. kode jabatan. (2) kompetensi jabatan sebagaimana dimaksud dalam pasal 3 huruf b terdiri atas: a. kompetensi teknis; b. kompetensi manajerial; dan c. kompetensi sosial kultural. (3) persyaratan jabatan sebagaimana dimaksud dalam pasal 3 huruf c paling sedikit terdiri atas: a. pangkat; b. kualifikasi pendidikan; c. jenis pelatihan; d. ukuran kinerja jabatan; dan e. pengalaman kerja. pasal 5 standar kompetensi asn terdiri atas: a. standar kompetensi jabatan pimpinan tinggi; b. standar kompetensi jabatan administrasi; dan c. standar kompetensi jabatan fungsional.'),\n",
       " Document(metadata={'producer': 'PyPDF', 'creator': 'PyPDF', 'creationdate': '', 'source': './data/PERMENPAN NOMOR 38 TAHUN 2017.pdf', 'total_pages': 108, 'page': 5, 'page_label': '6'}, page_content='pasal 6 (1) standar kompetensi asn sebagaimana dimaksud dalam pasal 5 berdasarkan pada: a. kamus kompetensi teknis; b. kamus kompetensi manajerial; dan c. kamus kompetensi sosial kultural. (2) kamus kompetensi teknis sebagaimana dimaksud pada ayat (1) huruf a merupakan daftar jenis kompetensi teknis, definisi kompetensi teknis, deskripsi kompetensi teknis, dan indikator perilaku untuk setiap level kompetensi teknis. (3) kamus kompetensi manajerial sebagaimana dimaksud pada ayat (1) huruf b merupakan daftar jenis kompetensi manajerial, definisi kompetensi manajerial, deskripsi, dan indikator perilaku untuk setiap level kompetensi manajerial. (4) kamus kompetensi sosial kultural sebagaimana dimaksud pada ayat (1) huruf c merupakan daftar jenis kompetensi sosial kultural, definisi kompetensi sosial kultural, deskripsi, dan indikator perilaku untuk setiap level kompetensi sosial kultural. pasal 7 (1) kamus kompetensi teknis sebagaimana dimaksud dalam pasal 6 ayat (2) disusun dan ditetapkan')]"
      ]
     },
     "execution_count": 40,
     "metadata": {},
     "output_type": "execute_result"
    }
   ],
   "source": [
    "docs_split[:10]"
   ]
  },
  {
   "cell_type": "markdown",
   "id": "096dd6b8",
   "metadata": {},
   "source": [
    "### Configuration"
   ]
  },
  {
   "cell_type": "code",
   "execution_count": null,
   "id": "0b2b51f4",
   "metadata": {},
   "outputs": [],
   "source": [
    "BASE_URL = \"https://vllm.emyulabs.my.id/v1\"\n",
    "API_KEY = \"sk-local-test\"\n",
    "\n",
    "client = OpenAI(base_url=BASE_URL,\n",
    "                api_key=API_KEY, \n",
    "                timeout=30.0,\n",
    "                max_retries=3)"
   ]
  },
  {
   "cell_type": "markdown",
   "id": "c96431eb",
   "metadata": {},
   "source": [
    "### Embedding model"
   ]
  },
  {
   "cell_type": "code",
   "execution_count": null,
   "id": "1830cd2a",
   "metadata": {},
   "outputs": [],
   "source": [
    "\n",
    "from langchain_openai import OpenAIEmbeddings\n",
    "from langchain_community.vectorstores import FAISS\n",
    "\n",
    "embedding_model = OpenAIEmbeddings(\n",
    "    base_url=BASE_URL,\n",
    "    api_key=API_KEY,\n",
    "    model=\"Qwen/Qwen3-Embedding-0.6B\" \n",
    ")\n",
    "\n",
    "\n",
    "db = FAISS.from_documents(docs_split, embedding_model)"
   ]
  },
  {
   "cell_type": "markdown",
   "id": "dd811954",
   "metadata": {},
   "source": [
    "### Instruct model"
   ]
  },
  {
   "cell_type": "code",
   "execution_count": null,
   "id": "9d908245",
   "metadata": {},
   "outputs": [],
   "source": [
    "from langchain_openai import ChatOpenAI\n",
    "llm_chat = ChatOpenAI(\n",
    "    base_url=BASE_URL,\n",
    "    api_key=API_KEY, \n",
    "    model=\"Qwen/Qwen2.5-coder-1.5B-Instruct\", \n",
    "    temperature=0.7,\n",
    "    max_tokens=256,\n",
    "    streaming=True,\n",
    "    verbose=True,\n",
    ")"
   ]
  },
  {
   "cell_type": "markdown",
   "id": "5b9c61d6",
   "metadata": {},
   "source": [
    "### Retrieval - Generation"
   ]
  },
  {
   "cell_type": "code",
   "execution_count": null,
   "id": "4dcd0ad6",
   "metadata": {},
   "outputs": [
    {
     "name": "stdout",
     "output_type": "stream",
     "text": [
      "Dokumen terambil dari k :[Document(id='c8e464cc-583e-41e9-badb-f6e306fa1cce', metadata={'producer': 'PyPDF', 'creator': 'PyPDF', 'creationdate': '', 'source': './data/PERMENPAN NOMOR 38 TAHUN 2017.pdf', 'total_pages': 108, 'page': 73, 'page_label': '74'}, page_content='pemahaman yang sama atas instruksi yang diterima/diberikan 1.3.mampu melaksanakan kegiatan surat menyurat sesuai tata naskah organisasi. 4. orientasi pada hasil 1 bertanggung jawab untuk 1.1.menyelesaikan tugas dengan tuntas; dapat diandalkan;'), Document(id='561fbe75-2275-46a0-bba4-6b93a77f128c', metadata={'producer': 'PyPDF', 'creator': 'PyPDF', 'creationdate': '', 'source': './data/PERMENPAN NOMOR 38 TAHUN 2017.pdf', 'total_pages': 108, 'page': 45, 'page_label': '46'}, page_content='dan pemahaman lintas organisasi untuk secara efektif memfasilitasi kebutuhan kelompok yang lebih besar dengan cara-cara yang mengikuti standar objektif, transparan, profesional, sehingga tidak merugikan para pihak di lingkup pelayanan publik unit kerjanya; 3.3. mengimplementasikan cara-cara yang efektif untuk memantau dan mengevaluasi masalah yang dihadapi'), Document(id='592aed99-2fc0-4a73-918f-44916f764f7b', metadata={'producer': 'PyPDF', 'creator': 'PyPDF', 'creationdate': '', 'source': './data/PERMENPAN NOMOR 38 TAHUN 2017.pdf', 'total_pages': 108, 'page': 82, 'page_label': '83'}, page_content='untuk meningkatkan efektifitas organisasi 4.4 menginisiasi dan merepresentasikan pemerintah di lingkungan kerja dan masyarakat untuk senantiasa menjaga persatuan dan kesatuan dalam keberagaman dan menerima segala bentuk perbedaan dalam kehidupan'), Document(id='89fe8a83-d3a8-48d6-aa39-76f864afdaee', metadata={'producer': 'PyPDF', 'creator': 'PyPDF', 'creationdate': '', 'source': './data/PERMENPAN NOMOR 38 TAHUN 2017.pdf', 'total_pages': 108, 'page': 18, 'page_label': '19'}, page_content='kompetensi a. syarat keanggotaan tim penyusun standar kompetensi persyaratan untuk dapat diangkat menjadi anggota tim adalah: 1) pns yang menduduki jabatan pimpinan tinggi, administrator, pengawas, pelaksana atau fungsional yang menangani pengelolaan jabatan/standarisasi jabatan; 2) telah mengikuti bimbingan teknis dan/atau mampu melakukan penyusunan kompetensi jabatan berdasarkan penilaian ppk; dan 3) syarat-syarat obyektif yang ditentukan oleh ppk, seperti pengalaman dan kemampuan lain yang diperlukan tim. b. susunan keanggotaan tim penyusun standar kompetensi 1) susunan keanggotaan tim penyusun standar kompetensi terdiri atas: a) seorang ketua merangkap anggota; b) seorang sekretaris merangkap anggota; dan'), Document(id='f9529682-6b44-4b02-b73b-34153a9e0931', metadata={'producer': 'PyPDF', 'creator': 'PyPDF', 'creationdate': '', 'source': './data/PERMENPAN NOMOR 38 TAHUN 2017.pdf', 'total_pages': 108, 'page': 21, 'page_label': '22'}, page_content='dalam pemetaan fungsi-fungsi organisasi fokus pada organisasi lini, sedangkan organisasi yang bersifat fasilitatif (penunjang) seperti staf ahli menteri, kepala sekretariat presiden, kepala sekretariat wakil presiden, sekretaris militer presiden, kepala sekretariat dewan pertimbangan presiden, sekretaris daerah provinsi, kepala biro, sekretaris dewan perwakilan rakyat daerah, sekretaris direktorat jenderal, sekretaris inspektorat jenderal, sekretaris kepala kadan, asisten sekretariat daerah provinsi, sekretaris daerah kabupaten/kota dan lain-lain, tidak termasuk dalam identifikasi. 4. inventarisasi uraian tugas-tugas dan hasil kerja (output) dari jabatan pimpinan tinggi, jabatan fungsional dan jabatan administrasi yang merupakan penyelenggara urusan pemerintahan. 5. mengidentifikasi kompetensi teknis dan unit kompetensi yang diperlukan atau yang harus dimiliki oleh para pemangku jabatan dibutuhkan untuk menghasilkan kinerja yang unggul dalam menyelenggarakan urusan pemerintahan. dengan'), Document(id='2706bb02-7312-47ef-999c-05327b7c3f27', metadata={'producer': 'PyPDF', 'creator': 'PyPDF', 'creationdate': '', 'source': './data/PERMENPAN NOMOR 38 TAHUN 2017.pdf', 'total_pages': 108, 'page': 31, 'page_label': '32'}, page_content='dampak dan tanggung jawab. pada saat ini pangkat yang digunakan adalah yang sesuai dengan peraturan pemerintah nomor 7 tahun 1977 tentang peraturan gaji pns, dengan pangkat dari juru, penata, pengatur'), Document(id='51a0f5d5-fc0a-4211-8f37-1cb43253d75b', metadata={'producer': 'PyPDF', 'creator': 'PyPDF', 'creationdate': '', 'source': './data/PERMENPAN NOMOR 38 TAHUN 2017.pdf', 'total_pages': 108, 'page': 98, 'page_label': '99'}, page_content='tepat dengan menggunakan cara/media yang sesuai dan mengikuti alur yang logis; 1.5.memastikan pemahaman yang sama atas instruksi yang diterima/diberikan 1.6.mampu melaksanakan kegiatan surat menyurat sesuai tata naskah organisasi.'), Document(id='f5c23d55-375e-4ef6-a08a-353f855ae3ba', metadata={'producer': 'PyPDF', 'creator': 'PyPDF', 'creationdate': '', 'source': './data/PERMENPAN NOMOR 38 TAHUN 2017.pdf', 'total_pages': 108, 'page': 98, 'page_label': '99'}, page_content='sesuai etika dan kode etik. 2.2. menerapkan norma-norma secara konsisten dalam setiap situasi, pada unit kerja terkecil/kelompok kerjanya. 2.3. memberikan informasi yang dapat dipercaya sesuai dengan etika organisasi 2. kerjasama 2 menumbuhkan tim kerja yang partisipatif dan efektif 2.1 membantu orang lain dalam menyelesaikan tugas-tugas mereka untuk mendukung sasaran tim; 2.2. berbagi informasi yang relevan atau bermanfaat pada anggota tim; mempertimbangkan masukan dan keahlian anggota dalam tim/kelompok kerja serta bersedia untuk belajar dari orang lain; 2.3. membangun komitmen yang tinggi untuk menyelesaikan tugas tim. 3. komunikasi 1 menyampaikan informasi dengan jelas, lengkap, pemahaman yang sama 1.4.menyampaikan informasi (data), pikiran atau pendapat dengan jelas, singkat dan tepat dengan menggunakan cara/media yang sesuai dan mengikuti alur yang logis; 1.5.memastikan pemahaman yang sama atas instruksi yang diterima/diberikan 1.6.mampu melaksanakan kegiatan surat menyurat'), Document(id='007ce310-f30a-49d0-b919-85b76753f3ee', metadata={'producer': 'PyPDF', 'creator': 'PyPDF', 'creationdate': '', 'source': './data/PERMENPAN NOMOR 38 TAHUN 2017.pdf', 'total_pages': 108, 'page': 42, 'page_label': '43'}, page_content='untuk mendorong kesepakatan dengan tujuan meningkatkan kinerja secara 4.1. mengintegrasikan informasi-informasi penting dari berbagai sumber dengan pihak lain untuk mendapatkan pemahaman yang sama; 4.2. menuangkan pemikiran/konsep dari berbagai sudut pandang/ multidimensi dalam bentuk tulisan formal; 4.3. menyampaikan informasi secara persuasif untuk mendorong pemangku kepentingan sepakat pada langkah-langkah bersama dengan'), Document(id='e3f31832-6047-4001-96db-e4e243383bcc', metadata={'producer': 'PyPDF', 'creator': 'PyPDF', 'creationdate': '', 'source': './data/PERMENPAN NOMOR 38 TAHUN 2017.pdf', 'total_pages': 108, 'page': 27, 'page_label': '28'}, page_content='4 .................. 4.1 ................................ 4.2 ................................. 4.3. ................................ 5 .................. 5.1 ................................ 5.2 ................................. 5.3. ................................ 10. menyelenggarakan workshop/lokakarya dengan mengundang instansi terkait, para ahli terkait urusan pemerintahan, asosiasi profesi, lembaga swadaya masyarakat terkait untuk memperoleh masukan yang komprehensif seluruh aspek kompetensi yang diperlukan untuk menyelenggarakan suatu urusan pemerintahan. 11. menyempurnakan rumusan kamus kompetensi teknis secara komprehensif berdasarkan masukan hasil workshop. 12. ppk menyampaikan kamus kompetensi teknis yang telah disusun kepada menteri untuk mendapatkan persetujuan. 13. ppk menetapkan keputusan tentang kamus kompetensi teknis urusan pemerintahan tertentu setelah mendapat persetujuan menteri. 14. instansi penyusun kamus kompetensi teknis dan kementerian pendayagunaan aparatur')]\n"
     ]
    }
   ],
   "source": [
    "retriever = db.as_retriever(\n",
    "    search_type = \"similarity\", # option = mmr or similarity_with_threshold\n",
    "    search_kwargs = {\"k\": 10 }\n",
    ")\n",
    "\n",
    "# retriever_mmr = db.as_retriever(\n",
    "#     # Ganti search_type menjadi \"mmr\"\n",
    "#     search_type=\"mmr\",\n",
    "#     search_kwargs={\n",
    "#         \"k\": 10,           \n",
    "#         \"fetch_k\": 20,   \n",
    "#         \"lambda_mult\": 0.5 \n",
    "#     }\n",
    "# )\n",
    "\n",
    "query = \"\"\"Apa inti dalam PERATURAN MENTERI PENDAYAGUNAAN APARATUR NEGARA\n",
    " DAN REFORMASI BIROKRASI TENTANG STANDAR\n",
    " KOMPETENSI JABATAN APARATUR SIPIL NEGARA ?\"\"\"\n",
    "\n",
    "retrieved_docs = retriever.get_relevant_documents(query)\n",
    "\n",
    "print(f\"Dokumen terambil dari k :{retrieved_docs}\")"
   ]
  },
  {
   "cell_type": "code",
   "execution_count": null,
   "id": "5dd560b7",
   "metadata": {},
   "outputs": [],
   "source": [
    "#Prompt\n",
    "from langchain.prompts import PromptTemplate\n",
    "\n",
    "# Template ini akan diisi dengan dokumen dari retriever dan pertanyaan dari pengguna (query)\n",
    "prompt_template = \"\"\"\n",
    "Gunakan potongan-potongan konteks berikut untuk menjawab pertanyaan pengguna.\n",
    "Jawablah secara ringkas dan jelas dalam Bahasa Indonesia.\n",
    "Jika Anda tidak tahu jawabannya berdasarkan konteks yang diberikan, katakan saja bahwa Anda tidak dapat menemukan informasinya, jangan mencoba mengarang jawaban.\n",
    "\n",
    "KONTEKS:\n",
    "{context}\n",
    "\n",
    "PERTANYAAN:\n",
    "{question}\n",
    "\n",
    "JAWABAN YANG MEMBANTU:\n",
    "\"\"\"\n",
    "\n",
    "CUSTOM_PROMPT = PromptTemplate(\n",
    "    template=prompt_template, input_variables=[\"context\", \"question\"]\n",
    ")"
   ]
  },
  {
   "cell_type": "code",
   "execution_count": null,
   "id": "0c068095",
   "metadata": {},
   "outputs": [],
   "source": [
    "from langchain.chains import RetrievalQA\n",
    "rag_chain = RetrievalQA.from_chain_type(\n",
    "    llm = llm_chat,\n",
    "    chain_type = \"stuff\", \n",
    "    retriever = retriever,\n",
    "    chain_type_kwargs = {\"prompt\": CUSTOM_PROMPT},\n",
    "    return_source_documents=True\n",
    ")"
   ]
  },
  {
   "cell_type": "code",
   "execution_count": null,
   "id": "5381a54b",
   "metadata": {},
   "outputs": [
    {
     "name": "stdout",
     "output_type": "stream",
     "text": [
      "\n",
      "PERTANYAAN:\n",
      "Apa inti dalam PERATURAN MENTERI PENDAYAGUNAAN APARATUR NEGARA\n",
      " DAN REFORMASI BIROKRASI TENTANG STANDAR\n",
      " KOMPETENSI JABATAN APARATUR SIPIL NEGARA ?\n",
      "\n",
      "JAWABAN YANG DIHASILKAN LLM:\n",
      "Peraturan Menteri Pendayagunaan Aparatur Negara dan Reformasi Birokrasi Tentang Standar Kompetensi Jabatan Aparatur Sipil Negara adalah pernyataan yang melibatkan beberapa aspek:\n",
      "\n",
      "1. **Pendidikan dan Pengembangan Kompetensi**: Peraturan ini menunjukkan prioritas yang diberikan kepada pendidikan dan pengembangan kompetensi bagi calon calon jabatan sipil negara. Ini melibatkan proses pembentukan standar kompetensi yang harus dipenuhi oleh calon calon jabatan.\n",
      "\n",
      "2. **Standar Kompetensi**: Standar kompetensi tersebut mencakup beberapa kompetensi penting seperti manajemen tim, komunikasi, kebijakan, dan manajemen proyek. Ini membantu agar calon calon jabatan memiliki kemampuan yang baik dalam mengimplementasikan tindakan dan strategi dalam pekerjaan.\n",
      "\n",
      "3. **Pemberian Persetujuan**: Sebelum calon calon jabatan bisa dipilih sebagai calon jabatan sipil negara, mereka harus memenuhi semua standar kompetensi tersebut.\n",
      "\n",
      "DOCUMENT:\n",
      "[Document(id='c8e464cc-583e-41e9-badb-f6e306fa1cce', metadata={'producer': 'PyPDF', 'creator': 'PyPDF', 'creationdate': '', 'source': './data/PERMENPAN NOMOR 38 TAHUN 2017.pdf', 'total_pages': 108, 'page': 73, 'page_label': '74'}, page_content='pemahaman yang sama atas instruksi yang diterima/diberikan 1.3.mampu melaksanakan kegiatan surat menyurat sesuai tata naskah organisasi. 4. orientasi pada hasil 1 bertanggung jawab untuk 1.1.menyelesaikan tugas dengan tuntas; dapat diandalkan;'), Document(id='561fbe75-2275-46a0-bba4-6b93a77f128c', metadata={'producer': 'PyPDF', 'creator': 'PyPDF', 'creationdate': '', 'source': './data/PERMENPAN NOMOR 38 TAHUN 2017.pdf', 'total_pages': 108, 'page': 45, 'page_label': '46'}, page_content='dan pemahaman lintas organisasi untuk secara efektif memfasilitasi kebutuhan kelompok yang lebih besar dengan cara-cara yang mengikuti standar objektif, transparan, profesional, sehingga tidak merugikan para pihak di lingkup pelayanan publik unit kerjanya; 3.3. mengimplementasikan cara-cara yang efektif untuk memantau dan mengevaluasi masalah yang dihadapi'), Document(id='592aed99-2fc0-4a73-918f-44916f764f7b', metadata={'producer': 'PyPDF', 'creator': 'PyPDF', 'creationdate': '', 'source': './data/PERMENPAN NOMOR 38 TAHUN 2017.pdf', 'total_pages': 108, 'page': 82, 'page_label': '83'}, page_content='untuk meningkatkan efektifitas organisasi 4.4 menginisiasi dan merepresentasikan pemerintah di lingkungan kerja dan masyarakat untuk senantiasa menjaga persatuan dan kesatuan dalam keberagaman dan menerima segala bentuk perbedaan dalam kehidupan'), Document(id='89fe8a83-d3a8-48d6-aa39-76f864afdaee', metadata={'producer': 'PyPDF', 'creator': 'PyPDF', 'creationdate': '', 'source': './data/PERMENPAN NOMOR 38 TAHUN 2017.pdf', 'total_pages': 108, 'page': 18, 'page_label': '19'}, page_content='kompetensi a. syarat keanggotaan tim penyusun standar kompetensi persyaratan untuk dapat diangkat menjadi anggota tim adalah: 1) pns yang menduduki jabatan pimpinan tinggi, administrator, pengawas, pelaksana atau fungsional yang menangani pengelolaan jabatan/standarisasi jabatan; 2) telah mengikuti bimbingan teknis dan/atau mampu melakukan penyusunan kompetensi jabatan berdasarkan penilaian ppk; dan 3) syarat-syarat obyektif yang ditentukan oleh ppk, seperti pengalaman dan kemampuan lain yang diperlukan tim. b. susunan keanggotaan tim penyusun standar kompetensi 1) susunan keanggotaan tim penyusun standar kompetensi terdiri atas: a) seorang ketua merangkap anggota; b) seorang sekretaris merangkap anggota; dan'), Document(id='f9529682-6b44-4b02-b73b-34153a9e0931', metadata={'producer': 'PyPDF', 'creator': 'PyPDF', 'creationdate': '', 'source': './data/PERMENPAN NOMOR 38 TAHUN 2017.pdf', 'total_pages': 108, 'page': 21, 'page_label': '22'}, page_content='dalam pemetaan fungsi-fungsi organisasi fokus pada organisasi lini, sedangkan organisasi yang bersifat fasilitatif (penunjang) seperti staf ahli menteri, kepala sekretariat presiden, kepala sekretariat wakil presiden, sekretaris militer presiden, kepala sekretariat dewan pertimbangan presiden, sekretaris daerah provinsi, kepala biro, sekretaris dewan perwakilan rakyat daerah, sekretaris direktorat jenderal, sekretaris inspektorat jenderal, sekretaris kepala kadan, asisten sekretariat daerah provinsi, sekretaris daerah kabupaten/kota dan lain-lain, tidak termasuk dalam identifikasi. 4. inventarisasi uraian tugas-tugas dan hasil kerja (output) dari jabatan pimpinan tinggi, jabatan fungsional dan jabatan administrasi yang merupakan penyelenggara urusan pemerintahan. 5. mengidentifikasi kompetensi teknis dan unit kompetensi yang diperlukan atau yang harus dimiliki oleh para pemangku jabatan dibutuhkan untuk menghasilkan kinerja yang unggul dalam menyelenggarakan urusan pemerintahan. dengan'), Document(id='2706bb02-7312-47ef-999c-05327b7c3f27', metadata={'producer': 'PyPDF', 'creator': 'PyPDF', 'creationdate': '', 'source': './data/PERMENPAN NOMOR 38 TAHUN 2017.pdf', 'total_pages': 108, 'page': 31, 'page_label': '32'}, page_content='dampak dan tanggung jawab. pada saat ini pangkat yang digunakan adalah yang sesuai dengan peraturan pemerintah nomor 7 tahun 1977 tentang peraturan gaji pns, dengan pangkat dari juru, penata, pengatur'), Document(id='51a0f5d5-fc0a-4211-8f37-1cb43253d75b', metadata={'producer': 'PyPDF', 'creator': 'PyPDF', 'creationdate': '', 'source': './data/PERMENPAN NOMOR 38 TAHUN 2017.pdf', 'total_pages': 108, 'page': 98, 'page_label': '99'}, page_content='tepat dengan menggunakan cara/media yang sesuai dan mengikuti alur yang logis; 1.5.memastikan pemahaman yang sama atas instruksi yang diterima/diberikan 1.6.mampu melaksanakan kegiatan surat menyurat sesuai tata naskah organisasi.'), Document(id='f5c23d55-375e-4ef6-a08a-353f855ae3ba', metadata={'producer': 'PyPDF', 'creator': 'PyPDF', 'creationdate': '', 'source': './data/PERMENPAN NOMOR 38 TAHUN 2017.pdf', 'total_pages': 108, 'page': 98, 'page_label': '99'}, page_content='sesuai etika dan kode etik. 2.2. menerapkan norma-norma secara konsisten dalam setiap situasi, pada unit kerja terkecil/kelompok kerjanya. 2.3. memberikan informasi yang dapat dipercaya sesuai dengan etika organisasi 2. kerjasama 2 menumbuhkan tim kerja yang partisipatif dan efektif 2.1 membantu orang lain dalam menyelesaikan tugas-tugas mereka untuk mendukung sasaran tim; 2.2. berbagi informasi yang relevan atau bermanfaat pada anggota tim; mempertimbangkan masukan dan keahlian anggota dalam tim/kelompok kerja serta bersedia untuk belajar dari orang lain; 2.3. membangun komitmen yang tinggi untuk menyelesaikan tugas tim. 3. komunikasi 1 menyampaikan informasi dengan jelas, lengkap, pemahaman yang sama 1.4.menyampaikan informasi (data), pikiran atau pendapat dengan jelas, singkat dan tepat dengan menggunakan cara/media yang sesuai dan mengikuti alur yang logis; 1.5.memastikan pemahaman yang sama atas instruksi yang diterima/diberikan 1.6.mampu melaksanakan kegiatan surat menyurat'), Document(id='007ce310-f30a-49d0-b919-85b76753f3ee', metadata={'producer': 'PyPDF', 'creator': 'PyPDF', 'creationdate': '', 'source': './data/PERMENPAN NOMOR 38 TAHUN 2017.pdf', 'total_pages': 108, 'page': 42, 'page_label': '43'}, page_content='untuk mendorong kesepakatan dengan tujuan meningkatkan kinerja secara 4.1. mengintegrasikan informasi-informasi penting dari berbagai sumber dengan pihak lain untuk mendapatkan pemahaman yang sama; 4.2. menuangkan pemikiran/konsep dari berbagai sudut pandang/ multidimensi dalam bentuk tulisan formal; 4.3. menyampaikan informasi secara persuasif untuk mendorong pemangku kepentingan sepakat pada langkah-langkah bersama dengan'), Document(id='e3f31832-6047-4001-96db-e4e243383bcc', metadata={'producer': 'PyPDF', 'creator': 'PyPDF', 'creationdate': '', 'source': './data/PERMENPAN NOMOR 38 TAHUN 2017.pdf', 'total_pages': 108, 'page': 27, 'page_label': '28'}, page_content='4 .................. 4.1 ................................ 4.2 ................................. 4.3. ................................ 5 .................. 5.1 ................................ 5.2 ................................. 5.3. ................................ 10. menyelenggarakan workshop/lokakarya dengan mengundang instansi terkait, para ahli terkait urusan pemerintahan, asosiasi profesi, lembaga swadaya masyarakat terkait untuk memperoleh masukan yang komprehensif seluruh aspek kompetensi yang diperlukan untuk menyelenggarakan suatu urusan pemerintahan. 11. menyempurnakan rumusan kamus kompetensi teknis secara komprehensif berdasarkan masukan hasil workshop. 12. ppk menyampaikan kamus kompetensi teknis yang telah disusun kepada menteri untuk mendapatkan persetujuan. 13. ppk menetapkan keputusan tentang kamus kompetensi teknis urusan pemerintahan tertentu setelah mendapat persetujuan menteri. 14. instansi penyusun kamus kompetensi teknis dan kementerian pendayagunaan aparatur')]\n"
     ]
    },
    {
     "data": {
      "text/plain": [
       "[Document(id='c8e464cc-583e-41e9-badb-f6e306fa1cce', metadata={'producer': 'PyPDF', 'creator': 'PyPDF', 'creationdate': '', 'source': './data/PERMENPAN NOMOR 38 TAHUN 2017.pdf', 'total_pages': 108, 'page': 73, 'page_label': '74'}, page_content='pemahaman yang sama atas instruksi yang diterima/diberikan 1.3.mampu melaksanakan kegiatan surat menyurat sesuai tata naskah organisasi. 4. orientasi pada hasil 1 bertanggung jawab untuk 1.1.menyelesaikan tugas dengan tuntas; dapat diandalkan;'),\n",
       " Document(id='561fbe75-2275-46a0-bba4-6b93a77f128c', metadata={'producer': 'PyPDF', 'creator': 'PyPDF', 'creationdate': '', 'source': './data/PERMENPAN NOMOR 38 TAHUN 2017.pdf', 'total_pages': 108, 'page': 45, 'page_label': '46'}, page_content='dan pemahaman lintas organisasi untuk secara efektif memfasilitasi kebutuhan kelompok yang lebih besar dengan cara-cara yang mengikuti standar objektif, transparan, profesional, sehingga tidak merugikan para pihak di lingkup pelayanan publik unit kerjanya; 3.3. mengimplementasikan cara-cara yang efektif untuk memantau dan mengevaluasi masalah yang dihadapi'),\n",
       " Document(id='592aed99-2fc0-4a73-918f-44916f764f7b', metadata={'producer': 'PyPDF', 'creator': 'PyPDF', 'creationdate': '', 'source': './data/PERMENPAN NOMOR 38 TAHUN 2017.pdf', 'total_pages': 108, 'page': 82, 'page_label': '83'}, page_content='untuk meningkatkan efektifitas organisasi 4.4 menginisiasi dan merepresentasikan pemerintah di lingkungan kerja dan masyarakat untuk senantiasa menjaga persatuan dan kesatuan dalam keberagaman dan menerima segala bentuk perbedaan dalam kehidupan'),\n",
       " Document(id='89fe8a83-d3a8-48d6-aa39-76f864afdaee', metadata={'producer': 'PyPDF', 'creator': 'PyPDF', 'creationdate': '', 'source': './data/PERMENPAN NOMOR 38 TAHUN 2017.pdf', 'total_pages': 108, 'page': 18, 'page_label': '19'}, page_content='kompetensi a. syarat keanggotaan tim penyusun standar kompetensi persyaratan untuk dapat diangkat menjadi anggota tim adalah: 1) pns yang menduduki jabatan pimpinan tinggi, administrator, pengawas, pelaksana atau fungsional yang menangani pengelolaan jabatan/standarisasi jabatan; 2) telah mengikuti bimbingan teknis dan/atau mampu melakukan penyusunan kompetensi jabatan berdasarkan penilaian ppk; dan 3) syarat-syarat obyektif yang ditentukan oleh ppk, seperti pengalaman dan kemampuan lain yang diperlukan tim. b. susunan keanggotaan tim penyusun standar kompetensi 1) susunan keanggotaan tim penyusun standar kompetensi terdiri atas: a) seorang ketua merangkap anggota; b) seorang sekretaris merangkap anggota; dan'),\n",
       " Document(id='f9529682-6b44-4b02-b73b-34153a9e0931', metadata={'producer': 'PyPDF', 'creator': 'PyPDF', 'creationdate': '', 'source': './data/PERMENPAN NOMOR 38 TAHUN 2017.pdf', 'total_pages': 108, 'page': 21, 'page_label': '22'}, page_content='dalam pemetaan fungsi-fungsi organisasi fokus pada organisasi lini, sedangkan organisasi yang bersifat fasilitatif (penunjang) seperti staf ahli menteri, kepala sekretariat presiden, kepala sekretariat wakil presiden, sekretaris militer presiden, kepala sekretariat dewan pertimbangan presiden, sekretaris daerah provinsi, kepala biro, sekretaris dewan perwakilan rakyat daerah, sekretaris direktorat jenderal, sekretaris inspektorat jenderal, sekretaris kepala kadan, asisten sekretariat daerah provinsi, sekretaris daerah kabupaten/kota dan lain-lain, tidak termasuk dalam identifikasi. 4. inventarisasi uraian tugas-tugas dan hasil kerja (output) dari jabatan pimpinan tinggi, jabatan fungsional dan jabatan administrasi yang merupakan penyelenggara urusan pemerintahan. 5. mengidentifikasi kompetensi teknis dan unit kompetensi yang diperlukan atau yang harus dimiliki oleh para pemangku jabatan dibutuhkan untuk menghasilkan kinerja yang unggul dalam menyelenggarakan urusan pemerintahan. dengan'),\n",
       " Document(id='2706bb02-7312-47ef-999c-05327b7c3f27', metadata={'producer': 'PyPDF', 'creator': 'PyPDF', 'creationdate': '', 'source': './data/PERMENPAN NOMOR 38 TAHUN 2017.pdf', 'total_pages': 108, 'page': 31, 'page_label': '32'}, page_content='dampak dan tanggung jawab. pada saat ini pangkat yang digunakan adalah yang sesuai dengan peraturan pemerintah nomor 7 tahun 1977 tentang peraturan gaji pns, dengan pangkat dari juru, penata, pengatur'),\n",
       " Document(id='51a0f5d5-fc0a-4211-8f37-1cb43253d75b', metadata={'producer': 'PyPDF', 'creator': 'PyPDF', 'creationdate': '', 'source': './data/PERMENPAN NOMOR 38 TAHUN 2017.pdf', 'total_pages': 108, 'page': 98, 'page_label': '99'}, page_content='tepat dengan menggunakan cara/media yang sesuai dan mengikuti alur yang logis; 1.5.memastikan pemahaman yang sama atas instruksi yang diterima/diberikan 1.6.mampu melaksanakan kegiatan surat menyurat sesuai tata naskah organisasi.'),\n",
       " Document(id='f5c23d55-375e-4ef6-a08a-353f855ae3ba', metadata={'producer': 'PyPDF', 'creator': 'PyPDF', 'creationdate': '', 'source': './data/PERMENPAN NOMOR 38 TAHUN 2017.pdf', 'total_pages': 108, 'page': 98, 'page_label': '99'}, page_content='sesuai etika dan kode etik. 2.2. menerapkan norma-norma secara konsisten dalam setiap situasi, pada unit kerja terkecil/kelompok kerjanya. 2.3. memberikan informasi yang dapat dipercaya sesuai dengan etika organisasi 2. kerjasama 2 menumbuhkan tim kerja yang partisipatif dan efektif 2.1 membantu orang lain dalam menyelesaikan tugas-tugas mereka untuk mendukung sasaran tim; 2.2. berbagi informasi yang relevan atau bermanfaat pada anggota tim; mempertimbangkan masukan dan keahlian anggota dalam tim/kelompok kerja serta bersedia untuk belajar dari orang lain; 2.3. membangun komitmen yang tinggi untuk menyelesaikan tugas tim. 3. komunikasi 1 menyampaikan informasi dengan jelas, lengkap, pemahaman yang sama 1.4.menyampaikan informasi (data), pikiran atau pendapat dengan jelas, singkat dan tepat dengan menggunakan cara/media yang sesuai dan mengikuti alur yang logis; 1.5.memastikan pemahaman yang sama atas instruksi yang diterima/diberikan 1.6.mampu melaksanakan kegiatan surat menyurat'),\n",
       " Document(id='007ce310-f30a-49d0-b919-85b76753f3ee', metadata={'producer': 'PyPDF', 'creator': 'PyPDF', 'creationdate': '', 'source': './data/PERMENPAN NOMOR 38 TAHUN 2017.pdf', 'total_pages': 108, 'page': 42, 'page_label': '43'}, page_content='untuk mendorong kesepakatan dengan tujuan meningkatkan kinerja secara 4.1. mengintegrasikan informasi-informasi penting dari berbagai sumber dengan pihak lain untuk mendapatkan pemahaman yang sama; 4.2. menuangkan pemikiran/konsep dari berbagai sudut pandang/ multidimensi dalam bentuk tulisan formal; 4.3. menyampaikan informasi secara persuasif untuk mendorong pemangku kepentingan sepakat pada langkah-langkah bersama dengan'),\n",
       " Document(id='e3f31832-6047-4001-96db-e4e243383bcc', metadata={'producer': 'PyPDF', 'creator': 'PyPDF', 'creationdate': '', 'source': './data/PERMENPAN NOMOR 38 TAHUN 2017.pdf', 'total_pages': 108, 'page': 27, 'page_label': '28'}, page_content='4 .................. 4.1 ................................ 4.2 ................................. 4.3. ................................ 5 .................. 5.1 ................................ 5.2 ................................. 5.3. ................................ 10. menyelenggarakan workshop/lokakarya dengan mengundang instansi terkait, para ahli terkait urusan pemerintahan, asosiasi profesi, lembaga swadaya masyarakat terkait untuk memperoleh masukan yang komprehensif seluruh aspek kompetensi yang diperlukan untuk menyelenggarakan suatu urusan pemerintahan. 11. menyempurnakan rumusan kamus kompetensi teknis secara komprehensif berdasarkan masukan hasil workshop. 12. ppk menyampaikan kamus kompetensi teknis yang telah disusun kepada menteri untuk mendapatkan persetujuan. 13. ppk menetapkan keputusan tentang kamus kompetensi teknis urusan pemerintahan tertentu setelah mendapat persetujuan menteri. 14. instansi penyusun kamus kompetensi teknis dan kementerian pendayagunaan aparatur')]"
      ]
     },
     "execution_count": 47,
     "metadata": {},
     "output_type": "execute_result"
    }
   ],
   "source": [
    "# Menjalankan query melalui RAG Chain\n",
    "response = rag_chain.invoke(query)\n",
    "\n",
    "print(\"\\nPERTANYAAN:\")\n",
    "print(query)\n",
    "\n",
    "print(\"\\nJAWABAN YANG DIHASILKAN LLM:\")\n",
    "print(response['result'])\n",
    "\n",
    "print(\"\\nDOCUMENT:\")\n",
    "print(response['source_documents'])\n",
    "\n",
    "\n",
    "retrieved_docs"
   ]
  },
  {
   "cell_type": "markdown",
   "id": "722868c0",
   "metadata": {},
   "source": [
    "<!-- Penggunaan LLM sebagai Penilai  -->"
   ]
  },
  {
   "cell_type": "markdown",
   "id": "4d4b8bfc",
   "metadata": {},
   "source": [
    "### Penggunaan LLM untuk menilai skill / level competency \n"
   ]
  },
  {
   "cell_type": "code",
   "execution_count": null,
   "id": "a19961a3",
   "metadata": {},
   "outputs": [],
   "source": [
    "llm_assessor = ChatOpenAI(\n",
    "    base_url=BASE_URL,\n",
    "    api_key=API_KEY,\n",
    "    model=\"Qwen/Qwen2.5-coder-1.5B-Instruct\",\n",
    "    temperature=0.3,  # Lebih deterministik untuk penilaian\n",
    "    max_tokens=512,\n",
    "    streaming=False,\n",
    "    verbose=False,\n",
    ")"
   ]
  },
  {
   "cell_type": "code",
   "execution_count": null,
   "id": "51d5270f",
   "metadata": {},
   "outputs": [],
   "source": [
    "from prompt.prompt import BASIC_RAG_PROMPT, MANAGERIAL_ASSESSMENT_PROMPT, TECHNICAL_COMPETENCY_PROMPT, COMPETENCY_GAP_ANALYSIS_PROMPT\n"
   ]
  },
  {
   "cell_type": "code",
   "execution_count": null,
   "id": "54fb8bd1",
   "metadata": {},
   "outputs": [],
   "source": [
    "from prompt.prompt import MANAGERIAL_ASSESSMENT_PROMPT\n",
    "\n",
    "def setup_rag_chain():\n",
    "    \"\"\"Setup RAG chain untuk query dasar\"\"\"\n",
    "    return RetrievalQA.from_chain_type(\n",
    "        llm=llm_chat,\n",
    "        chain_type=\"stuff\",\n",
    "        retriever=retriever,\n",
    "        chain_type_kwargs={\"prompt\": MANAGERIAL_ASSESSMENT_PROMPT},\n",
    "        return_source_documents=True\n",
    "    )"
   ]
  },
  {
   "cell_type": "code",
   "execution_count": null,
   "id": "23799339",
   "metadata": {},
   "outputs": [],
   "source": [
    "def query_standar_kompetensi(pertanyaan):\n",
    "    \"\"\"\n",
    "    Fungsi dasar untuk query standar kompetensi\n",
    "    \"\"\"\n",
    "    rag_chain = setup_rag_chain()\n",
    "    response = rag_chain.invoke(pertanyaan)\n",
    "    \n",
    "    return {\n",
    "        'result': response['result'],\n",
    "        'source_documents': response['source_documents']\n",
    "    }"
   ]
  },
  {
   "cell_type": "code",
   "execution_count": null,
   "id": "3e7fe9e0",
   "metadata": {},
   "outputs": [],
   "source": [
    "def assess_competency(nama, jabatan, jawaban_test, kompetensi, level_target):\n",
    "    \"\"\"\n",
    "    Menilai kompetensi berdasarkan jawaban test case\n",
    "    \"\"\"\n",
    "    # Retrieve dokumen relevan\n",
    "    query = f\"kompetensi {kompetensi} level {level_target} indikator perilaku\"\n",
    "    relevant_docs = retriever.get_relevant_documents(query)\n",
    "    context = \"\\n\".join([doc.page_content for doc in relevant_docs])\n",
    "    \n",
    "    # Setup chain untuk penilaian\n",
    "    assessment_chain = RetrievalQA.from_chain_type(\n",
    "        llm=llm_assessor,\n",
    "        chain_type=\"stuff\",\n",
    "        retriever=retriever,\n",
    "        chain_type_kwargs={\"prompt\": MANAGERIAL_ASSESSMENT_PROMPT},\n",
    "        return_source_documents=False\n",
    "    )\n",
    "    \n",
    "    # Eksekusi penilaian\n",
    "    assessment_result = assessment_chain.invoke({\n",
    "        \"query\": \"\",\n",
    "        \"context\": context,\n",
    "        \"nama\": nama,\n",
    "        \"jabatan\": jabatan,\n",
    "        \"jawaban\": jawaban_test,\n",
    "        \"kompetensi\": kompetensi,\n",
    "        \"level_target\": level_target\n",
    "    })\n",
    "    \n",
    "    return assessment_result['result']"
   ]
  },
  {
   "cell_type": "code",
   "execution_count": null,
   "id": "56cde928",
   "metadata": {},
   "outputs": [],
   "source": [
    "def analyze_competency_gap(nama, jabatan, level_sekarang, level_target, hasil_assessment):\n",
    "    \"\"\"\n",
    "    Menganalisis gap kompetensi dan memberikan rekomendasi pengembangan\n",
    "    \"\"\"\n",
    "    query = f\"kompetensi manajerial level {level_target} pengembangan\"\n",
    "    relevant_docs = retriever.get_relevant_documents(query)\n",
    "    context = \"\\n\".join([doc.page_content for doc in relevant_docs])\n",
    "    \n",
    "    gap_analysis_chain = RetrievalQA.from_chain_type(\n",
    "        llm=llm_assessor,\n",
    "        chain_type=\"stuff\",\n",
    "        retriever=retriever,\n",
    "        chain_type_kwargs={\"prompt\": COMPETENCY_GAP_ANALYSIS_PROMPT},\n",
    "        return_source_documents=False\n",
    "    )\n",
    "    \n",
    "    analysis_result = gap_analysis_chain.invoke({\n",
    "        \"query\": \"\",\n",
    "        \"context\": context,\n",
    "        \"nama\": nama,\n",
    "        \"jabatan\": jabatan,\n",
    "        \"level_sekarang\": level_sekarang,\n",
    "        \"level_target\": level_target,\n",
    "        \"hasil_assessment\": hasil_assessment\n",
    "    })\n",
    "    \n",
    "    return analysis_result['result']\n"
   ]
  },
  {
   "cell_type": "code",
   "execution_count": null,
   "id": "54fc11ca",
   "metadata": {},
   "outputs": [],
   "source": [
    "def assess_technical_competency(nama, jabatan, bidang_teknis, jawaban, level_target):\n",
    "    \"\"\"\n",
    "    Menilai kompetensi teknis spesifik\n",
    "    \"\"\"\n",
    "    query = f\"kompetensi teknis {bidang_teknis} level {level_target}\"\n",
    "    relevant_docs = retriever.get_relevant_documents(query)\n",
    "    context = \"\\n\".join([doc.page_content for doc in relevant_docs])\n",
    "    \n",
    "    technical_chain = RetrievalQA.from_chain_type(\n",
    "        llm=llm_assessor,\n",
    "        chain_type=\"stuff\",\n",
    "        retriever=retriever,\n",
    "        chain_type_kwargs={\"prompt\": TECHNICAL_COMPETENCY_PROMPT},\n",
    "        return_source_documents=False\n",
    "    )\n",
    "    \n",
    "    result = technical_chain.invoke({\n",
    "        \"query\": \"\",\n",
    "        \"context\": context,\n",
    "        \"nama\": nama,\n",
    "        \"jabatan\": jabatan,\n",
    "        \"bidang_teknis\": bidang_teknis,\n",
    "        \"jawaban\": jawaban,\n",
    "        \"level_target\": level_target\n",
    "    })\n",
    "    \n",
    "    return result['result']"
   ]
  },
  {
   "cell_type": "code",
   "execution_count": null,
   "id": "631304d0",
   "metadata": {},
   "outputs": [],
   "source": [
    "def demo_basic_rag():\n",
    "    \"\"\"Demonstrasi fungsi RAG dasar\"\"\"\n",
    "    print(\"\\n\" + \"=\"*60)\n",
    "    print(\"DEMO: BASIC RAG SYSTEM\")\n",
    "    print(\"=\"*60)\n",
    "    \n",
    "    questions = [\n",
    "        \"Apa inti dalam PERATURAN MENTERI PENDAYAGUNAAN APARATUR NEGARA DAN REFORMASI BIROKRASI TENTANG STANDAR KOMPETENSI JABATAN APARATUR SIPIL NEGARA?\",\n",
    "        \"Apa saja jenis kompetensi menurut Permenpan RB 38/2017?\",\n",
    "        \"Jelaskan tentang kompetensi manajerial level 3\",\n",
    "        \"Apa yang dimaksud dengan sistem merit dalam standar kompetensi ASN?\"\n",
    "    ]\n",
    "    \n",
    "    for i, question in enumerate(questions, 1):\n",
    "        print(f\"\\n{i}. PERTANYAAN: {question}\")\n",
    "        result = query_standar_kompetensi(question)\n",
    "        print(f\"JAWABAN: {result['result']}\")\n",
    "        print(\"-\" * 50)\n"
   ]
  },
  {
   "cell_type": "code",
   "execution_count": null,
   "id": "3630b7fe",
   "metadata": {},
   "outputs": [],
   "source": [
    "def demo_competency_assessment():\n",
    "    \"\"\"Demonstrasi sistem penilaian kompetensi\"\"\"\n",
    "    print(\"\\n\" + \"=\"*60)\n",
    "    print(\"DEMO: COMPETENCY ASSESSMENT SYSTEM\")\n",
    "    print(\"=\"*60)\n",
    "    \n",
    "    # Test Case 1: Kompetensi Manajerial\n",
    "    test_case_1 = {\n",
    "        \"nama\": \"Budi Santoso\",\n",
    "        \"jabatan\": \"Kepala Seksi\",\n",
    "        \"jawaban_test\": \"\"\"\n",
    "        Dalam menyelesaikan konflik tim, saya pertama-tama mengumpulkan semua pihak \n",
    "        untuk mendengarkan perspektif masing-masing. Saya menggunakan pendekatan win-win solution \n",
    "        dengan mencari titik temu yang menguntungkan semua pihak. Setelah mencapai kesepakatan, \n",
    "        saya memastikan implementasinya dengan monitoring berkala dan evaluasi hasil.\n",
    "        Saya juga mendokumentasikan pembelajaran dari konflik ini untuk pencegahan di masa depan.\n",
    "        \"\"\",\n",
    "        \"kompetensi\": \"manajerial\",\n",
    "        \"level_target\": 3\n",
    "    }\n",
    "    \n",
    "    print(\"\\n📊 TEST CASE 1: PENILAIAN KOMPETENSI MANAJERIAL LEVEL 3\")\n",
    "    print(f\"Kandidat: {test_case_1['nama']} - {test_case_1['jabatan']}\")\n",
    "    \n",
    "    # Melakukan penilaian\n",
    "    hasil_penilaian = assess_competency(\n",
    "        nama=test_case_1[\"nama\"],\n",
    "        jabatan=test_case_1[\"jabatan\"],\n",
    "        jawaban_test=test_case_1[\"jawaban_test\"],\n",
    "        kompetensi=test_case_1[\"kompetensi\"],\n",
    "        level_target=test_case_1[\"level_target\"]\n",
    "    )\n",
    "    \n",
    "    print(\"HASIL PENILAIAN:\")\n",
    "    print(hasil_penilaian)\n",
    "    \n",
    "    # Analisis gap\n",
    "    print(\"\\n🔍 ANALISIS GAP KOMPETENSI:\")\n",
    "    gap_analysis = analyze_competency_gap(\n",
    "        nama=test_case_1[\"nama\"],\n",
    "        jabatan=test_case_1[\"jabatan\"],\n",
    "        level_sekarang=2,\n",
    "        level_target=test_case_1[\"level_target\"],\n",
    "        hasil_assessment=hasil_penilaian\n",
    "    )\n",
    "    print(gap_analysis)\n",
    "    \n",
    "    # Test Case 2: Kompetensi Teknis\n",
    "    test_case_2 = {\n",
    "        \"nama\": \"Siti Rahayu\",\n",
    "        \"jabatan\": \"Analis Kepegawaian\",\n",
    "        \"bidang_teknis\": \"manajemen SDM\",\n",
    "        \"jawaban_test\": \"\"\"\n",
    "        Untuk menyusun perencanaan SDM, saya melakukan analisis kebutuhan berdasarkan \n",
    "        rencana strategis organisasi. Saya menggunakan data historis dan proyeksi kebutuhan \n",
    "        untuk menentukan jumlah dan kualifikasi pegawai yang dibutuhkan. \n",
    "        Saya juga mempertimbangkan aspek pengembangan karir dan suksesi planning.\n",
    "        \"\"\",\n",
    "        \"level_target\": 2\n",
    "    }\n",
    "    \n",
    "    print(\"\\n\" + \"=\"*50)\n",
    "    print(\"\\n📊 TEST CASE 2: PENILAIAN KOMPETENSI TEKNIS\")\n",
    "    print(f\"Kandidat: {test_case_2['nama']} - {test_case_2['jabatan']}\")\n",
    "    print(f\"Bidang: {test_case_2['bidang_teknis']} - Level: {test_case_2['level_target']}\")\n",
    "    \n",
    "    hasil_teknis = assess_technical_competency(\n",
    "        nama=test_case_2[\"nama\"],\n",
    "        jabatan=test_case_2[\"jabatan\"],\n",
    "        bidang_teknis=test_case_2[\"bidang_teknis\"],\n",
    "        jawaban=test_case_2[\"jawaban_test\"],\n",
    "        level_target=test_case_2[\"level_target\"]\n",
    "    )\n",
    "    \n",
    "    print(\"HASIL PENILAIAN TEKNIS:\")\n",
    "    print(hasil_teknis)\n"
   ]
  },
  {
   "cell_type": "code",
   "execution_count": null,
   "id": "c132f7e9",
   "metadata": {},
   "outputs": [],
   "source": [
    "demo_basic_rag()"
   ]
  },
  {
   "cell_type": "code",
   "execution_count": null,
   "id": "50918417",
   "metadata": {},
   "outputs": [],
   "source": [
    "demo_competency_assessment()"
   ]
  },
  {
   "cell_type": "markdown",
   "id": "db85d016",
   "metadata": {},
   "source": [
    "<!--  -->"
   ]
  }
 ],
 "metadata": {
  "kernelspec": {
   "display_name": "demo-rag-env",
   "language": "python",
   "name": "python3"
  },
  "language_info": {
   "codemirror_mode": {
    "name": "ipython",
    "version": 3
   },
   "file_extension": ".py",
   "mimetype": "text/x-python",
   "name": "python",
   "nbconvert_exporter": "python",
   "pygments_lexer": "ipython3",
   "version": "3.13.8"
  }
 },
 "nbformat": 4,
 "nbformat_minor": 5
}
