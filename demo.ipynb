{
 "cells": [
  {
   "cell_type": "code",
   "execution_count": 2,
   "id": "25f8dc50",
   "metadata": {},
   "outputs": [],
   "source": [
    "import re \n",
    "\n",
    "from langchain_openai import OpenAIEmbeddings\n",
    "from openai import OpenAI\n",
    "from langchain.text_splitter import RecursiveCharacterTextSplitter\n",
    "from langchain_community.document_loaders  import PyPDFLoader\n",
    "from langchain_openai import ChatOpenAI\n",
    "from langchain.prompts import PromptTemplate\n",
    "from langchain.chains import RetrievalQA\n",
    "\n",
    "\n",
    "\n",
    "from langchain_community.vectorstores import FAISS"
   ]
  },
  {
   "cell_type": "markdown",
   "id": "e62789d6",
   "metadata": {},
   "source": [
    "### Langgraph docs loader\n"
   ]
  },
  {
   "cell_type": "code",
   "execution_count": 3,
   "id": "70cba3b3",
   "metadata": {},
   "outputs": [],
   "source": [
    "from langchain_community.document_loaders  import PyPDFLoader\n",
    "\n",
    "\n",
    "loader = PyPDFLoader(\"./data/PERMENPAN NOMOR 38 TAHUN 2017.pdf\")\n",
    "documents = loader.load()"
   ]
  },
  {
   "cell_type": "code",
   "execution_count": 4,
   "id": "a91667ba",
   "metadata": {},
   "outputs": [
    {
     "data": {
      "text/plain": [
       "Document(metadata={'producer': 'PyPDF', 'creator': 'PyPDF', 'creationdate': '', 'source': './data/PERMENPAN NOMOR 38 TAHUN 2017.pdf', 'total_pages': 108, 'page': 0, 'page_label': '1'}, page_content='PERATURAN MENTERI PENDAYAGUNAAN APARATUR NEGARA DAN\\nREFORMASI BIROKRASI REPUBLIK INDONESIA\\nNOMOR 38 TAHUN 2017\\nTENTANG\\nSTANDAR KOMPETENSI JABATAN APARATUR SIPIL NEGARA\\nDENGAN RAHMAT TUHAN YANG MAHA ESA\\nMENTERI PENDAYAGUNAAN APARATUR NEGARA\\nDAN REFORMASI BIROKRASI REPUBLIK INDONESIA,\\nMenimbang : bahwa untuk melaksanakan ketentuan Pasal 55 ayat (5),\\nPasal 109 ayat (4) dan ayat (5) dan Pasal 166 ayat (2)\\nPeraturan Pemerintah Nomor 11 Tahun 2017 tentang\\nManajemen Pegawai Negeri Sipil, perlu menetapkan Peraturan\\nMenteri Pendayagunaan Aparatur Negara dan Reformasi\\nBirokrasi tentang Standar Kompetensi Jabatan Aparatur Sipil\\nNegara;\\nMengingat : 1. Undang-Undang Nomor 5 Tahun 2014 tentang Aparatur\\nSipil Negara (Lembaran Negara Republik Indonesia Tahun\\n2014 Nomor 6, Tambahan Lembaran Negara Republik\\nIndonesia Nomor 5494);\\n2. Peraturan Pemerintah Nomor 11 Tahun 2017 tentang\\nManajemen Pegawai Negeri Sipil (Lembaran Negara\\nRepublik Indonesia Tahun 2017 Nomor 63, Tambahan\\nLembaran Negara Republik Indonesia Nomor 6037);\\n3. Peraturan Presiden Nomor 8 Tahun 2012 tentang\\nKerangka Kualifikasi Nasional Indonesia (Lembaran\\nNegara Republik Indonesia Tahun 2012 Nomor 24);')"
      ]
     },
     "execution_count": 4,
     "metadata": {},
     "output_type": "execute_result"
    }
   ],
   "source": [
    "documents[0]"
   ]
  },
  {
   "cell_type": "code",
   "execution_count": 5,
   "id": "c2539b64",
   "metadata": {},
   "outputs": [
    {
     "name": "stdout",
     "output_type": "stream",
     "text": [
      "{'producer': 'PyPDF',\n",
      " 'creator': 'PyPDF',\n",
      " 'creationdate': '',\n",
      " 'source': './data/PERMENPAN NOMOR 38 TAHUN 2017.pdf',\n",
      " 'total_pages': 108,\n",
      " 'page': 0,\n",
      " 'page_label': '1'}\n"
     ]
    }
   ],
   "source": [
    "import pprint\n",
    "\n",
    "pprint.pp(documents[0].metadata)"
   ]
  },
  {
   "cell_type": "markdown",
   "id": "60249ee0",
   "metadata": {},
   "source": [
    "### Preprocessing"
   ]
  },
  {
   "cell_type": "code",
   "execution_count": 6,
   "id": "e51e9ebf",
   "metadata": {},
   "outputs": [],
   "source": [
    "import re \n",
    "def preprocess(text): \n",
    "    # Menghilangkan footer nomor halaman seperti \"- 5 -\"\n",
    "    text = re.sub(r'-\\s*\\d+\\s*-', '', text)\n",
    "    text = re.sub(r'\\n\\s*\\n', '\\n\\n', text)\n",
    "    text = re.sub(r'\\n(?!\\n)', ' ', text)\n",
    "    text = re.sub(r' +', ' ', text)\n",
    "\n",
    "    return text.strip().lower()\n",
    "\n",
    "for doc in documents:\n",
    "    doc.page_content = preprocess(doc.page_content) \n",
    "\n"
   ]
  },
  {
   "cell_type": "code",
   "execution_count": 7,
   "id": "69a8b468",
   "metadata": {},
   "outputs": [
    {
     "data": {
      "text/plain": [
       "[Document(metadata={'producer': 'PyPDF', 'creator': 'PyPDF', 'creationdate': '', 'source': './data/PERMENPAN NOMOR 38 TAHUN 2017.pdf', 'total_pages': 108, 'page': 0, 'page_label': '1'}, page_content='peraturan menteri pendayagunaan aparatur negara dan reformasi birokrasi republik indonesia nomor 38 tahun 2017 tentang standar kompetensi jabatan aparatur sipil negara dengan rahmat tuhan yang maha esa menteri pendayagunaan aparatur negara dan reformasi birokrasi republik indonesia, menimbang : bahwa untuk melaksanakan ketentuan pasal 55 ayat (5), pasal 109 ayat (4) dan ayat (5) dan pasal 166 ayat (2) peraturan pemerintah nomor 11 tahun 2017 tentang manajemen pegawai negeri sipil, perlu menetapkan peraturan menteri pendayagunaan aparatur negara dan reformasi birokrasi tentang standar kompetensi jabatan aparatur sipil negara; mengingat : 1. undang-undang nomor 5 tahun 2014 tentang aparatur sipil negara (lembaran negara republik indonesia tahun 2014 nomor 6, tambahan lembaran negara republik indonesia nomor 5494); 2. peraturan pemerintah nomor 11 tahun 2017 tentang manajemen pegawai negeri sipil (lembaran negara republik indonesia tahun 2017 nomor 63, tambahan lembaran negara republik indonesia nomor 6037); 3. peraturan presiden nomor 8 tahun 2012 tentang kerangka kualifikasi nasional indonesia (lembaran negara republik indonesia tahun 2012 nomor 24);'),\n",
       " Document(metadata={'producer': 'PyPDF', 'creator': 'PyPDF', 'creationdate': '', 'source': './data/PERMENPAN NOMOR 38 TAHUN 2017.pdf', 'total_pages': 108, 'page': 1, 'page_label': '2'}, page_content='4. peraturan presiden nomor 7 tahun 2015 tentang organisasi kementerian negara (lembaran negara republik indonesia tahun 2015 nomor 8); 5. peraturan presiden nomor 47 tahun 2015 tentang kementerian pendayagunaan aparatur negara dan reformasi birokrasi (lembaran negara republik indonesia tahun 2015 nomor 89); memutuskan: menetapkan: peraturan menteri pendayagunaan aparatur negara dan reformasi birokrasi tentang standar kompetensi jabatan aparatur sipil negara. pasal 1 dalam peraturan menteri ini yang dimaksud dengan: 1. standar kompetensi jabatan aparatur sipil negara yang selanjutnya disebut standar kompetensi asn adalah deskripsi pengetahuan, keterampilan dan perilaku yang diperlukan seorang aparatur sipil negara dalam melaksanakan tugas jabatan. 2. aparatur sipil negara yang selanjutnya disingkat asn adalah profesi bagi pegawai negeri sipil dan pegawai pemerintah dengan perjanjian kerja yang bekerja pada instansi pemerintah. 3. pegawai aparatur sipil negara yang selanjutnya disebut pegawai asn adalah pegawai negeri sipil dan pegawai pemerintah dengan perjanjian kerja yang diangkat oleh pejabat pembina kepegawaian dan diserahi tugas dalam suatu jabatan pemerintahan atau diserahi tugas negara lainnya dan digaji berdasarkan peraturan perundang- undangan. 4. pegawai negeri sipil yang selanjutnya disingkat pns adalah warga negara indonesia yang memenuhi syarat tertentu, diangkat sebagai pegawai asn secara tetap oleh pejabat pembina kepegawaian untuk menduduki jabatan pemerintahan.'),\n",
       " Document(metadata={'producer': 'PyPDF', 'creator': 'PyPDF', 'creationdate': '', 'source': './data/PERMENPAN NOMOR 38 TAHUN 2017.pdf', 'total_pages': 108, 'page': 2, 'page_label': '3'}, page_content='5. pegawai pemerintah dengan perjanjian kerja yang selanjutnya disingkat pppk adalah warga negara indonesia yang memenuhi syarat tertentu, yang diangkat berdasarkan perjanjian kerja untuk jangka waktu tertentu dalam rangka melaksanakan tugas pemerintahan. 6. sistem merit adalah kebijakan dan manajemen asn yang berdasarkan pada kualifikasi, kompetensi, dan kinerja secara adil dan wajar dengan tanpa membedakan latar belakang politik, ras, warna kulit, agama, asal usul, jenis kelamin, status pernikahan, umur, atau kondisi kecacatan. 7. kompetensi teknis adalah pengetahuan, keterampilan, dan sikap/perilaku yang dapat diamati, diukur dan dikembangkan yang spesifik berkaitan dengan bidang teknis jabatan. 8. kompetensi manajerial adalah pengetahuan, keterampilan, dan sikap/perilaku yang dapat diamati, diukur, dikembangkan untuk memimpin dan/atau mengelola unit organisasi. 9. kompetensi sosial kultural adalah pengetahuan, keterampilan, dan sikap/perilaku yang dapat diamati, diukur, dan dikembangkan terkait dengan pengalaman berinteraksi dengan masyarakat majemuk dalam hal agama, suku dan budaya, perilaku, wawasan kebangsaan, etika, nilai-nilai, moral, emosi dan prinsip, yang harus dipenuhi oleh setiap pemegang jabatan untuk memperoleh hasil kerja sesuai dengan peran, fungsi dan jabatan. 10. jabatan adalah kedudukan yang menunjukkan fungsi, tugas, tanggung jawab, wewenang, dan hak seorang pegawai asn dalam suatu satuan organisasi. 11. ikhtisar jabatan adalah uraian tugas yang disusun secara ringkas dalam bentuk satu kalimat yang mencerminkan pokok-pokok tugas jabatan.'),\n",
       " Document(metadata={'producer': 'PyPDF', 'creator': 'PyPDF', 'creationdate': '', 'source': './data/PERMENPAN NOMOR 38 TAHUN 2017.pdf', 'total_pages': 108, 'page': 3, 'page_label': '4'}, page_content='12. uraian tugas adalah suatu paparan atau bentangan atas semua tugas jabatan yang merupakan tugas pokok yang dilakukan oleh pemangku jabatan dalam memproses bahan kerja menjadi hasil kerja. 13. kamus kompetensi adalah kumpulan kompetensi yang meliputi nama kompetensi, definisi kompetensi, deskripsi dan level kompetensi serta indikator perilaku. 14. instansi pemerintah adalah instansi pusat dan instansi daerah. 15. instansi pusat adalah kementerian, lembaga pemerintah nonkementerian, kesekretariatan lembaga negara, dan kesekretariatan lembaga nonstruktural. 16. instansi daerah adalah perangkat daerah provinsi dan perangkat daerah kabupaten/kota yang meliputi sekretariat daerah, sekretariat dewan perwakilan rakyat daerah, dinas daerah, dan lembaga teknis daerah. 17. pejabat pembina kepegawaian yang selanjutnya disingkat ppk adalah pejabat yang mempunyai kewenangan menetapkan pengangkatan, pemindahan, dan pemberhentian pegawai asn dan pembinaan manajemen asn di instansi pemerintah sesuai dengan ketentuan peraturan perundang-undangan. 18. instansi pengguna adalah kementerian/lembaga, pemerintah provinsi, pemerintah kabupaten/kota yang mempergunakan kamus kompetensi teknis, kamus kompetensi manajerial dan kamus kompetensi sosial kultural dan/atau menggunakan standar kompetensi jabatan. 19. menteri adalah menteri yang menyelenggarakan urusan pemerintahan di bidang pendayagunaan aparatur negara. pasal 2 (1) dalam menyelenggarakan manajemen aparatur sipil negara berbasis sistem merit, setiap instansi pemerintah harus menyusun standar kompetensi asn.'),\n",
       " Document(metadata={'producer': 'PyPDF', 'creator': 'PyPDF', 'creationdate': '', 'source': './data/PERMENPAN NOMOR 38 TAHUN 2017.pdf', 'total_pages': 108, 'page': 4, 'page_label': '5'}, page_content='(2) standar kompetensi asn yang telah disusun oleh instansi pemerintah sebagaimana dimaksud pada ayat (1) ditetapkan oleh menteri. pasal 3 standar kompetensi asn sebagaimana dimaksud dalam pasal 2 meliputi: a. identitas jabatan; b. kompetensi jabatan; dan c. persyaratan jabatan. pasal 4 (1) identitas jabatan sebagaimana dimaksud dalam pasal 3 huruf a paling sedikit terdiri atas: a. nama jabatan; b. uraian/ihtisar jabatan; dan c. kode jabatan. (2) kompetensi jabatan sebagaimana dimaksud dalam pasal 3 huruf b terdiri atas: a. kompetensi teknis; b. kompetensi manajerial; dan c. kompetensi sosial kultural. (3) persyaratan jabatan sebagaimana dimaksud dalam pasal 3 huruf c paling sedikit terdiri atas: a. pangkat; b. kualifikasi pendidikan; c. jenis pelatihan; d. ukuran kinerja jabatan; dan e. pengalaman kerja. pasal 5 standar kompetensi asn terdiri atas: a. standar kompetensi jabatan pimpinan tinggi; b. standar kompetensi jabatan administrasi; dan c. standar kompetensi jabatan fungsional.')]"
      ]
     },
     "execution_count": 7,
     "metadata": {},
     "output_type": "execute_result"
    }
   ],
   "source": [
    "documents[0:5]"
   ]
  },
  {
   "cell_type": "code",
   "execution_count": 8,
   "id": "09a2d337",
   "metadata": {},
   "outputs": [],
   "source": [
    "text_splitter = RecursiveCharacterTextSplitter(\n",
    "    chunk_size=1000,    \n",
    "    chunk_overlap=200,  \n",
    "    length_function=len\n",
    ")\n",
    "\n",
    "\n",
    "\n",
    "docs_split = text_splitter.split_documents(documents)"
   ]
  },
  {
   "cell_type": "code",
   "execution_count": 9,
   "id": "af2e4f55",
   "metadata": {},
   "outputs": [
    {
     "data": {
      "text/plain": [
       "[Document(metadata={'producer': 'PyPDF', 'creator': 'PyPDF', 'creationdate': '', 'source': './data/PERMENPAN NOMOR 38 TAHUN 2017.pdf', 'total_pages': 108, 'page': 0, 'page_label': '1'}, page_content='peraturan menteri pendayagunaan aparatur negara dan reformasi birokrasi republik indonesia nomor 38 tahun 2017 tentang standar kompetensi jabatan aparatur sipil negara dengan rahmat tuhan yang maha esa menteri pendayagunaan aparatur negara dan reformasi birokrasi republik indonesia, menimbang : bahwa untuk melaksanakan ketentuan pasal 55 ayat (5), pasal 109 ayat (4) dan ayat (5) dan pasal 166 ayat (2) peraturan pemerintah nomor 11 tahun 2017 tentang manajemen pegawai negeri sipil, perlu menetapkan peraturan menteri pendayagunaan aparatur negara dan reformasi birokrasi tentang standar kompetensi jabatan aparatur sipil negara; mengingat : 1. undang-undang nomor 5 tahun 2014 tentang aparatur sipil negara (lembaran negara republik indonesia tahun 2014 nomor 6, tambahan lembaran negara republik indonesia nomor 5494); 2. peraturan pemerintah nomor 11 tahun 2017 tentang manajemen pegawai negeri sipil (lembaran negara republik indonesia tahun 2017 nomor 63, tambahan lembaran negara republik'),\n",
       " Document(metadata={'producer': 'PyPDF', 'creator': 'PyPDF', 'creationdate': '', 'source': './data/PERMENPAN NOMOR 38 TAHUN 2017.pdf', 'total_pages': 108, 'page': 0, 'page_label': '1'}, page_content='indonesia nomor 5494); 2. peraturan pemerintah nomor 11 tahun 2017 tentang manajemen pegawai negeri sipil (lembaran negara republik indonesia tahun 2017 nomor 63, tambahan lembaran negara republik indonesia nomor 6037); 3. peraturan presiden nomor 8 tahun 2012 tentang kerangka kualifikasi nasional indonesia (lembaran negara republik indonesia tahun 2012 nomor 24);'),\n",
       " Document(metadata={'producer': 'PyPDF', 'creator': 'PyPDF', 'creationdate': '', 'source': './data/PERMENPAN NOMOR 38 TAHUN 2017.pdf', 'total_pages': 108, 'page': 1, 'page_label': '2'}, page_content='4. peraturan presiden nomor 7 tahun 2015 tentang organisasi kementerian negara (lembaran negara republik indonesia tahun 2015 nomor 8); 5. peraturan presiden nomor 47 tahun 2015 tentang kementerian pendayagunaan aparatur negara dan reformasi birokrasi (lembaran negara republik indonesia tahun 2015 nomor 89); memutuskan: menetapkan: peraturan menteri pendayagunaan aparatur negara dan reformasi birokrasi tentang standar kompetensi jabatan aparatur sipil negara. pasal 1 dalam peraturan menteri ini yang dimaksud dengan: 1. standar kompetensi jabatan aparatur sipil negara yang selanjutnya disebut standar kompetensi asn adalah deskripsi pengetahuan, keterampilan dan perilaku yang diperlukan seorang aparatur sipil negara dalam melaksanakan tugas jabatan. 2. aparatur sipil negara yang selanjutnya disingkat asn adalah profesi bagi pegawai negeri sipil dan pegawai pemerintah dengan perjanjian kerja yang bekerja pada instansi pemerintah. 3. pegawai aparatur sipil negara yang selanjutnya disebut'),\n",
       " Document(metadata={'producer': 'PyPDF', 'creator': 'PyPDF', 'creationdate': '', 'source': './data/PERMENPAN NOMOR 38 TAHUN 2017.pdf', 'total_pages': 108, 'page': 1, 'page_label': '2'}, page_content='disingkat asn adalah profesi bagi pegawai negeri sipil dan pegawai pemerintah dengan perjanjian kerja yang bekerja pada instansi pemerintah. 3. pegawai aparatur sipil negara yang selanjutnya disebut pegawai asn adalah pegawai negeri sipil dan pegawai pemerintah dengan perjanjian kerja yang diangkat oleh pejabat pembina kepegawaian dan diserahi tugas dalam suatu jabatan pemerintahan atau diserahi tugas negara lainnya dan digaji berdasarkan peraturan perundang- undangan. 4. pegawai negeri sipil yang selanjutnya disingkat pns adalah warga negara indonesia yang memenuhi syarat tertentu, diangkat sebagai pegawai asn secara tetap oleh pejabat pembina kepegawaian untuk menduduki jabatan pemerintahan.'),\n",
       " Document(metadata={'producer': 'PyPDF', 'creator': 'PyPDF', 'creationdate': '', 'source': './data/PERMENPAN NOMOR 38 TAHUN 2017.pdf', 'total_pages': 108, 'page': 2, 'page_label': '3'}, page_content='5. pegawai pemerintah dengan perjanjian kerja yang selanjutnya disingkat pppk adalah warga negara indonesia yang memenuhi syarat tertentu, yang diangkat berdasarkan perjanjian kerja untuk jangka waktu tertentu dalam rangka melaksanakan tugas pemerintahan. 6. sistem merit adalah kebijakan dan manajemen asn yang berdasarkan pada kualifikasi, kompetensi, dan kinerja secara adil dan wajar dengan tanpa membedakan latar belakang politik, ras, warna kulit, agama, asal usul, jenis kelamin, status pernikahan, umur, atau kondisi kecacatan. 7. kompetensi teknis adalah pengetahuan, keterampilan, dan sikap/perilaku yang dapat diamati, diukur dan dikembangkan yang spesifik berkaitan dengan bidang teknis jabatan. 8. kompetensi manajerial adalah pengetahuan, keterampilan, dan sikap/perilaku yang dapat diamati, diukur, dikembangkan untuk memimpin dan/atau mengelola unit organisasi. 9. kompetensi sosial kultural adalah pengetahuan, keterampilan, dan sikap/perilaku yang dapat diamati, diukur, dan'),\n",
       " Document(metadata={'producer': 'PyPDF', 'creator': 'PyPDF', 'creationdate': '', 'source': './data/PERMENPAN NOMOR 38 TAHUN 2017.pdf', 'total_pages': 108, 'page': 2, 'page_label': '3'}, page_content='diamati, diukur, dikembangkan untuk memimpin dan/atau mengelola unit organisasi. 9. kompetensi sosial kultural adalah pengetahuan, keterampilan, dan sikap/perilaku yang dapat diamati, diukur, dan dikembangkan terkait dengan pengalaman berinteraksi dengan masyarakat majemuk dalam hal agama, suku dan budaya, perilaku, wawasan kebangsaan, etika, nilai-nilai, moral, emosi dan prinsip, yang harus dipenuhi oleh setiap pemegang jabatan untuk memperoleh hasil kerja sesuai dengan peran, fungsi dan jabatan. 10. jabatan adalah kedudukan yang menunjukkan fungsi, tugas, tanggung jawab, wewenang, dan hak seorang pegawai asn dalam suatu satuan organisasi. 11. ikhtisar jabatan adalah uraian tugas yang disusun secara ringkas dalam bentuk satu kalimat yang mencerminkan pokok-pokok tugas jabatan.'),\n",
       " Document(metadata={'producer': 'PyPDF', 'creator': 'PyPDF', 'creationdate': '', 'source': './data/PERMENPAN NOMOR 38 TAHUN 2017.pdf', 'total_pages': 108, 'page': 3, 'page_label': '4'}, page_content='12. uraian tugas adalah suatu paparan atau bentangan atas semua tugas jabatan yang merupakan tugas pokok yang dilakukan oleh pemangku jabatan dalam memproses bahan kerja menjadi hasil kerja. 13. kamus kompetensi adalah kumpulan kompetensi yang meliputi nama kompetensi, definisi kompetensi, deskripsi dan level kompetensi serta indikator perilaku. 14. instansi pemerintah adalah instansi pusat dan instansi daerah. 15. instansi pusat adalah kementerian, lembaga pemerintah nonkementerian, kesekretariatan lembaga negara, dan kesekretariatan lembaga nonstruktural. 16. instansi daerah adalah perangkat daerah provinsi dan perangkat daerah kabupaten/kota yang meliputi sekretariat daerah, sekretariat dewan perwakilan rakyat daerah, dinas daerah, dan lembaga teknis daerah. 17. pejabat pembina kepegawaian yang selanjutnya disingkat ppk adalah pejabat yang mempunyai kewenangan menetapkan pengangkatan, pemindahan, dan pemberhentian pegawai asn dan pembinaan manajemen asn di instansi pemerintah sesuai'),\n",
       " Document(metadata={'producer': 'PyPDF', 'creator': 'PyPDF', 'creationdate': '', 'source': './data/PERMENPAN NOMOR 38 TAHUN 2017.pdf', 'total_pages': 108, 'page': 3, 'page_label': '4'}, page_content='yang selanjutnya disingkat ppk adalah pejabat yang mempunyai kewenangan menetapkan pengangkatan, pemindahan, dan pemberhentian pegawai asn dan pembinaan manajemen asn di instansi pemerintah sesuai dengan ketentuan peraturan perundang-undangan. 18. instansi pengguna adalah kementerian/lembaga, pemerintah provinsi, pemerintah kabupaten/kota yang mempergunakan kamus kompetensi teknis, kamus kompetensi manajerial dan kamus kompetensi sosial kultural dan/atau menggunakan standar kompetensi jabatan. 19. menteri adalah menteri yang menyelenggarakan urusan pemerintahan di bidang pendayagunaan aparatur negara. pasal 2 (1) dalam menyelenggarakan manajemen aparatur sipil negara berbasis sistem merit, setiap instansi pemerintah harus menyusun standar kompetensi asn.'),\n",
       " Document(metadata={'producer': 'PyPDF', 'creator': 'PyPDF', 'creationdate': '', 'source': './data/PERMENPAN NOMOR 38 TAHUN 2017.pdf', 'total_pages': 108, 'page': 4, 'page_label': '5'}, page_content='(2) standar kompetensi asn yang telah disusun oleh instansi pemerintah sebagaimana dimaksud pada ayat (1) ditetapkan oleh menteri. pasal 3 standar kompetensi asn sebagaimana dimaksud dalam pasal 2 meliputi: a. identitas jabatan; b. kompetensi jabatan; dan c. persyaratan jabatan. pasal 4 (1) identitas jabatan sebagaimana dimaksud dalam pasal 3 huruf a paling sedikit terdiri atas: a. nama jabatan; b. uraian/ihtisar jabatan; dan c. kode jabatan. (2) kompetensi jabatan sebagaimana dimaksud dalam pasal 3 huruf b terdiri atas: a. kompetensi teknis; b. kompetensi manajerial; dan c. kompetensi sosial kultural. (3) persyaratan jabatan sebagaimana dimaksud dalam pasal 3 huruf c paling sedikit terdiri atas: a. pangkat; b. kualifikasi pendidikan; c. jenis pelatihan; d. ukuran kinerja jabatan; dan e. pengalaman kerja. pasal 5 standar kompetensi asn terdiri atas: a. standar kompetensi jabatan pimpinan tinggi; b. standar kompetensi jabatan administrasi; dan c. standar kompetensi jabatan fungsional.'),\n",
       " Document(metadata={'producer': 'PyPDF', 'creator': 'PyPDF', 'creationdate': '', 'source': './data/PERMENPAN NOMOR 38 TAHUN 2017.pdf', 'total_pages': 108, 'page': 5, 'page_label': '6'}, page_content='pasal 6 (1) standar kompetensi asn sebagaimana dimaksud dalam pasal 5 berdasarkan pada: a. kamus kompetensi teknis; b. kamus kompetensi manajerial; dan c. kamus kompetensi sosial kultural. (2) kamus kompetensi teknis sebagaimana dimaksud pada ayat (1) huruf a merupakan daftar jenis kompetensi teknis, definisi kompetensi teknis, deskripsi kompetensi teknis, dan indikator perilaku untuk setiap level kompetensi teknis. (3) kamus kompetensi manajerial sebagaimana dimaksud pada ayat (1) huruf b merupakan daftar jenis kompetensi manajerial, definisi kompetensi manajerial, deskripsi, dan indikator perilaku untuk setiap level kompetensi manajerial. (4) kamus kompetensi sosial kultural sebagaimana dimaksud pada ayat (1) huruf c merupakan daftar jenis kompetensi sosial kultural, definisi kompetensi sosial kultural, deskripsi, dan indikator perilaku untuk setiap level kompetensi sosial kultural. pasal 7 (1) kamus kompetensi teknis sebagaimana dimaksud dalam pasal 6 ayat (2) disusun dan ditetapkan')]"
      ]
     },
     "execution_count": 9,
     "metadata": {},
     "output_type": "execute_result"
    }
   ],
   "source": [
    "docs_split[:10]"
   ]
  },
  {
   "cell_type": "markdown",
   "id": "096dd6b8",
   "metadata": {},
   "source": [
    "### Configuration"
   ]
  },
  {
   "cell_type": "code",
   "execution_count": 10,
   "id": "0b2b51f4",
   "metadata": {},
   "outputs": [],
   "source": [
    "BASE_URL = \"https://vllm.emyulabs.my.id/v1\"\n",
    "API_KEY = \"sk-local-test\"\n",
    "\n",
    "client = OpenAI(base_url=BASE_URL,\n",
    "                api_key=API_KEY, \n",
    "                timeout=30.0,\n",
    "                max_retries=3)"
   ]
  },
  {
   "cell_type": "markdown",
   "id": "c96431eb",
   "metadata": {},
   "source": [
    "### Embedding model"
   ]
  },
  {
   "cell_type": "code",
   "execution_count": 11,
   "id": "1830cd2a",
   "metadata": {},
   "outputs": [],
   "source": [
    "\n",
    "from langchain_openai import OpenAIEmbeddings\n",
    "from langchain_community.vectorstores import FAISS\n",
    "\n",
    "embedding_model = OpenAIEmbeddings(\n",
    "    base_url=BASE_URL,\n",
    "    api_key=API_KEY,\n",
    "    model=\"Qwen/Qwen3-Embedding-0.6B\" \n",
    ")\n",
    "\n",
    "\n",
    "db = FAISS.from_documents(docs_split, embedding_model)"
   ]
  },
  {
   "cell_type": "markdown",
   "id": "dd811954",
   "metadata": {},
   "source": [
    "### Instruct model"
   ]
  },
  {
   "cell_type": "code",
   "execution_count": 12,
   "id": "9d908245",
   "metadata": {},
   "outputs": [],
   "source": [
    "from langchain_openai import ChatOpenAI\n",
    "llm_chat = ChatOpenAI(\n",
    "    base_url=BASE_URL,\n",
    "    api_key=API_KEY, \n",
    "    model=\"Qwen/Qwen2.5-coder-1.5B-Instruct\", \n",
    "    temperature=0.7,\n",
    "    max_tokens=256,\n",
    "    streaming=True,\n",
    "    verbose=True,\n",
    ")"
   ]
  },
  {
   "cell_type": "markdown",
   "id": "5b9c61d6",
   "metadata": {},
   "source": [
    "### Retrieval - Generation"
   ]
  },
  {
   "cell_type": "code",
   "execution_count": 13,
   "id": "4dcd0ad6",
   "metadata": {},
   "outputs": [
    {
     "name": "stderr",
     "output_type": "stream",
     "text": [
      "C:\\Users\\erwin\\AppData\\Local\\Temp\\ipykernel_36152\\4219862953.py:20: LangChainDeprecationWarning: The method `BaseRetriever.get_relevant_documents` was deprecated in langchain-core 0.1.46 and will be removed in 1.0. Use :meth:`~invoke` instead.\n",
      "  retrieved_docs = retriever.get_relevant_documents(query)\n"
     ]
    },
    {
     "name": "stdout",
     "output_type": "stream",
     "text": [
      "Dokumen terambil dari k :[Document(id='1facc327-cf6b-4d20-8d3d-742c9b47d021', metadata={'producer': 'PyPDF', 'creator': 'PyPDF', 'creationdate': '', 'source': './data/PERMENPAN NOMOR 38 TAHUN 2017.pdf', 'total_pages': 108, 'page': 73, 'page_label': '74'}, page_content='pemahaman yang sama atas instruksi yang diterima/diberikan 1.3.mampu melaksanakan kegiatan surat menyurat sesuai tata naskah organisasi. 4. orientasi pada hasil 1 bertanggung jawab untuk 1.1.menyelesaikan tugas dengan tuntas; dapat diandalkan;'), Document(id='78d324cd-6388-41dc-8fb3-a146528832c6', metadata={'producer': 'PyPDF', 'creator': 'PyPDF', 'creationdate': '', 'source': './data/PERMENPAN NOMOR 38 TAHUN 2017.pdf', 'total_pages': 108, 'page': 45, 'page_label': '46'}, page_content='dan pemahaman lintas organisasi untuk secara efektif memfasilitasi kebutuhan kelompok yang lebih besar dengan cara-cara yang mengikuti standar objektif, transparan, profesional, sehingga tidak merugikan para pihak di lingkup pelayanan publik unit kerjanya; 3.3. mengimplementasikan cara-cara yang efektif untuk memantau dan mengevaluasi masalah yang dihadapi'), Document(id='6c21b653-4ecd-4c01-b04a-0adfa4d81f1d', metadata={'producer': 'PyPDF', 'creator': 'PyPDF', 'creationdate': '', 'source': './data/PERMENPAN NOMOR 38 TAHUN 2017.pdf', 'total_pages': 108, 'page': 82, 'page_label': '83'}, page_content='untuk meningkatkan efektifitas organisasi 4.4 menginisiasi dan merepresentasikan pemerintah di lingkungan kerja dan masyarakat untuk senantiasa menjaga persatuan dan kesatuan dalam keberagaman dan menerima segala bentuk perbedaan dalam kehidupan'), Document(id='6e8f72b5-f711-4c70-bde0-6bcc5c32dd2a', metadata={'producer': 'PyPDF', 'creator': 'PyPDF', 'creationdate': '', 'source': './data/PERMENPAN NOMOR 38 TAHUN 2017.pdf', 'total_pages': 108, 'page': 18, 'page_label': '19'}, page_content='kompetensi a. syarat keanggotaan tim penyusun standar kompetensi persyaratan untuk dapat diangkat menjadi anggota tim adalah: 1) pns yang menduduki jabatan pimpinan tinggi, administrator, pengawas, pelaksana atau fungsional yang menangani pengelolaan jabatan/standarisasi jabatan; 2) telah mengikuti bimbingan teknis dan/atau mampu melakukan penyusunan kompetensi jabatan berdasarkan penilaian ppk; dan 3) syarat-syarat obyektif yang ditentukan oleh ppk, seperti pengalaman dan kemampuan lain yang diperlukan tim. b. susunan keanggotaan tim penyusun standar kompetensi 1) susunan keanggotaan tim penyusun standar kompetensi terdiri atas: a) seorang ketua merangkap anggota; b) seorang sekretaris merangkap anggota; dan'), Document(id='1c041adf-968f-43fd-80a0-780ec3d8e671', metadata={'producer': 'PyPDF', 'creator': 'PyPDF', 'creationdate': '', 'source': './data/PERMENPAN NOMOR 38 TAHUN 2017.pdf', 'total_pages': 108, 'page': 21, 'page_label': '22'}, page_content='dalam pemetaan fungsi-fungsi organisasi fokus pada organisasi lini, sedangkan organisasi yang bersifat fasilitatif (penunjang) seperti staf ahli menteri, kepala sekretariat presiden, kepala sekretariat wakil presiden, sekretaris militer presiden, kepala sekretariat dewan pertimbangan presiden, sekretaris daerah provinsi, kepala biro, sekretaris dewan perwakilan rakyat daerah, sekretaris direktorat jenderal, sekretaris inspektorat jenderal, sekretaris kepala kadan, asisten sekretariat daerah provinsi, sekretaris daerah kabupaten/kota dan lain-lain, tidak termasuk dalam identifikasi. 4. inventarisasi uraian tugas-tugas dan hasil kerja (output) dari jabatan pimpinan tinggi, jabatan fungsional dan jabatan administrasi yang merupakan penyelenggara urusan pemerintahan. 5. mengidentifikasi kompetensi teknis dan unit kompetensi yang diperlukan atau yang harus dimiliki oleh para pemangku jabatan dibutuhkan untuk menghasilkan kinerja yang unggul dalam menyelenggarakan urusan pemerintahan. dengan'), Document(id='f9b22dda-973b-404d-9d54-710e92e5587b', metadata={'producer': 'PyPDF', 'creator': 'PyPDF', 'creationdate': '', 'source': './data/PERMENPAN NOMOR 38 TAHUN 2017.pdf', 'total_pages': 108, 'page': 31, 'page_label': '32'}, page_content='dampak dan tanggung jawab. pada saat ini pangkat yang digunakan adalah yang sesuai dengan peraturan pemerintah nomor 7 tahun 1977 tentang peraturan gaji pns, dengan pangkat dari juru, penata, pengatur'), Document(id='d2acf69e-254f-4f91-aebb-4473836d4ee0', metadata={'producer': 'PyPDF', 'creator': 'PyPDF', 'creationdate': '', 'source': './data/PERMENPAN NOMOR 38 TAHUN 2017.pdf', 'total_pages': 108, 'page': 98, 'page_label': '99'}, page_content='tepat dengan menggunakan cara/media yang sesuai dan mengikuti alur yang logis; 1.5.memastikan pemahaman yang sama atas instruksi yang diterima/diberikan 1.6.mampu melaksanakan kegiatan surat menyurat sesuai tata naskah organisasi.'), Document(id='ffda5419-8397-49ae-b1e0-8a21b3917ba8', metadata={'producer': 'PyPDF', 'creator': 'PyPDF', 'creationdate': '', 'source': './data/PERMENPAN NOMOR 38 TAHUN 2017.pdf', 'total_pages': 108, 'page': 98, 'page_label': '99'}, page_content='sesuai etika dan kode etik. 2.2. menerapkan norma-norma secara konsisten dalam setiap situasi, pada unit kerja terkecil/kelompok kerjanya. 2.3. memberikan informasi yang dapat dipercaya sesuai dengan etika organisasi 2. kerjasama 2 menumbuhkan tim kerja yang partisipatif dan efektif 2.1 membantu orang lain dalam menyelesaikan tugas-tugas mereka untuk mendukung sasaran tim; 2.2. berbagi informasi yang relevan atau bermanfaat pada anggota tim; mempertimbangkan masukan dan keahlian anggota dalam tim/kelompok kerja serta bersedia untuk belajar dari orang lain; 2.3. membangun komitmen yang tinggi untuk menyelesaikan tugas tim. 3. komunikasi 1 menyampaikan informasi dengan jelas, lengkap, pemahaman yang sama 1.4.menyampaikan informasi (data), pikiran atau pendapat dengan jelas, singkat dan tepat dengan menggunakan cara/media yang sesuai dan mengikuti alur yang logis; 1.5.memastikan pemahaman yang sama atas instruksi yang diterima/diberikan 1.6.mampu melaksanakan kegiatan surat menyurat'), Document(id='24083b3a-573d-43f3-94b4-b0f5b284cd7a', metadata={'producer': 'PyPDF', 'creator': 'PyPDF', 'creationdate': '', 'source': './data/PERMENPAN NOMOR 38 TAHUN 2017.pdf', 'total_pages': 108, 'page': 42, 'page_label': '43'}, page_content='untuk mendorong kesepakatan dengan tujuan meningkatkan kinerja secara 4.1. mengintegrasikan informasi-informasi penting dari berbagai sumber dengan pihak lain untuk mendapatkan pemahaman yang sama; 4.2. menuangkan pemikiran/konsep dari berbagai sudut pandang/ multidimensi dalam bentuk tulisan formal; 4.3. menyampaikan informasi secara persuasif untuk mendorong pemangku kepentingan sepakat pada langkah-langkah bersama dengan'), Document(id='d31a99d1-72a1-41da-8e7f-ea305e046fbd', metadata={'producer': 'PyPDF', 'creator': 'PyPDF', 'creationdate': '', 'source': './data/PERMENPAN NOMOR 38 TAHUN 2017.pdf', 'total_pages': 108, 'page': 27, 'page_label': '28'}, page_content='4 .................. 4.1 ................................ 4.2 ................................. 4.3. ................................ 5 .................. 5.1 ................................ 5.2 ................................. 5.3. ................................ 10. menyelenggarakan workshop/lokakarya dengan mengundang instansi terkait, para ahli terkait urusan pemerintahan, asosiasi profesi, lembaga swadaya masyarakat terkait untuk memperoleh masukan yang komprehensif seluruh aspek kompetensi yang diperlukan untuk menyelenggarakan suatu urusan pemerintahan. 11. menyempurnakan rumusan kamus kompetensi teknis secara komprehensif berdasarkan masukan hasil workshop. 12. ppk menyampaikan kamus kompetensi teknis yang telah disusun kepada menteri untuk mendapatkan persetujuan. 13. ppk menetapkan keputusan tentang kamus kompetensi teknis urusan pemerintahan tertentu setelah mendapat persetujuan menteri. 14. instansi penyusun kamus kompetensi teknis dan kementerian pendayagunaan aparatur')]\n"
     ]
    }
   ],
   "source": [
    "retriever = db.as_retriever(\n",
    "    search_type = \"similarity\", # option = mmr or similarity_with_threshold\n",
    "    search_kwargs = {\"k\": 10 }\n",
    ")\n",
    "\n",
    "# retriever_mmr = db.as_retriever(\n",
    "#     # Ganti search_type menjadi \"mmr\"\n",
    "#     search_type=\"mmr\",\n",
    "#     search_kwargs={\n",
    "#         \"k\": 10,           \n",
    "#         \"fetch_k\": 20,   \n",
    "#         \"lambda_mult\": 0.5 \n",
    "#     }\n",
    "# )\n",
    "\n",
    "query = \"\"\"Apa inti dalam PERATURAN MENTERI PENDAYAGUNAAN APARATUR NEGARA\n",
    " DAN REFORMASI BIROKRASI TENTANG STANDAR\n",
    " KOMPETENSI JABATAN APARATUR SIPIL NEGARA ?\"\"\"\n",
    "\n",
    "retrieved_docs = retriever.get_relevant_documents(query)\n",
    "\n",
    "print(f\"Dokumen terambil dari k :{retrieved_docs}\")"
   ]
  },
  {
   "cell_type": "code",
   "execution_count": null,
   "id": "5dd560b7",
   "metadata": {},
   "outputs": [],
   "source": [
    "#Prompt\n",
    "from langchain.prompts import PromptTemplate\n",
    "\n",
    "# Template ini akan diisi dengan dokumen dari retriever dan pertanyaan dari query\n",
    "prompt_template = \"\"\"\n",
    "Gunakan potongan-potongan konteks berikut untuk menjawab pertanyaan pengguna.\n",
    "Jawablah secara ringkas dan jelas dalam Bahasa Indonesia.\n",
    "Jika Anda tidak tahu jawabannya berdasarkan konteks yang diberikan, katakan saja bahwa Anda tidak dapat menemukan informasinya, jangan mencoba mengarang jawaban.\n",
    "\n",
    "KONTEKS:\n",
    "{context}\n",
    "\n",
    "PERTANYAAN:\n",
    "{question}\n",
    "\n",
    "JAWABAN YANG MEMBANTU:\n",
    "\"\"\"\n",
    "\n",
    "CUSTOM_PROMPT = PromptTemplate(\n",
    "    template=prompt_template, input_variables=[\"context\", \"question\"]\n",
    ")"
   ]
  },
  {
   "cell_type": "code",
   "execution_count": 15,
   "id": "0c068095",
   "metadata": {},
   "outputs": [],
   "source": [
    "from langchain.chains import RetrievalQA\n",
    "rag_chain = RetrievalQA.from_chain_type(\n",
    "    llm = llm_chat,\n",
    "    chain_type = \"stuff\", \n",
    "    retriever = retriever,\n",
    "    chain_type_kwargs = {\"prompt\": CUSTOM_PROMPT},\n",
    "    return_source_documents=True\n",
    ")"
   ]
  },
  {
   "cell_type": "code",
   "execution_count": 16,
   "id": "5381a54b",
   "metadata": {},
   "outputs": [
    {
     "name": "stdout",
     "output_type": "stream",
     "text": [
      "\n",
      "PERTANYAAN:\n",
      "Apa inti dalam PERATURAN MENTERI PENDAYAGUNAAN APARATUR NEGARA\n",
      " DAN REFORMASI BIROKRASI TENTANG STANDAR\n",
      " KOMPETENSI JABATAN APARATUR SIPIL NEGARA ?\n",
      "\n",
      "JAWABAN YANG DIHASILKAN LLM:\n",
      "Peraturan Menteri Pendayagunaan Aparatur Negara dan Reformasi Birokrasi Tentang Standar Kompetensi Jabatan Aparatur Sipil Negara adalah peraturan yang bertujuan untuk mengatur dan mengajarkan standar kompetensi jabatan dalam bidang Aparatur Sipil Negara. Ini mencakup beberapa kompetensi penting yang dilakukan oleh pegawai di bidang tersebut, termasuk:\n",
      "\n",
      "1. Mengerti dan menerapkan norma-norma secara konsisten dalam setiap situasi, pada unit kerja terkecil/kelompok kerjanya.\n",
      "2. Memberikan informasi yang dapat dipercaya sesuai dengan etika organisasi.\n",
      "3. Membangun komitmen yang tinggi untuk menyelesaikan tugas tim.\n",
      "4. Menyampaikan informasi dengan jelas, lengkap, pemahaman yang sama.\n",
      "5. Melaksanakan kegiatan surat menyurat sesuai tata naskah organisasi.\n",
      "6. Menyelesaikan tugas dengan tuntas, baik secara individu maupun dalam tim.\n",
      "7. Meningkatkan efektivitas organis\n",
      "\n",
      "DOCUMENT:\n",
      "[Document(id='1facc327-cf6b-4d20-8d3d-742c9b47d021', metadata={'producer': 'PyPDF', 'creator': 'PyPDF', 'creationdate': '', 'source': './data/PERMENPAN NOMOR 38 TAHUN 2017.pdf', 'total_pages': 108, 'page': 73, 'page_label': '74'}, page_content='pemahaman yang sama atas instruksi yang diterima/diberikan 1.3.mampu melaksanakan kegiatan surat menyurat sesuai tata naskah organisasi. 4. orientasi pada hasil 1 bertanggung jawab untuk 1.1.menyelesaikan tugas dengan tuntas; dapat diandalkan;'), Document(id='78d324cd-6388-41dc-8fb3-a146528832c6', metadata={'producer': 'PyPDF', 'creator': 'PyPDF', 'creationdate': '', 'source': './data/PERMENPAN NOMOR 38 TAHUN 2017.pdf', 'total_pages': 108, 'page': 45, 'page_label': '46'}, page_content='dan pemahaman lintas organisasi untuk secara efektif memfasilitasi kebutuhan kelompok yang lebih besar dengan cara-cara yang mengikuti standar objektif, transparan, profesional, sehingga tidak merugikan para pihak di lingkup pelayanan publik unit kerjanya; 3.3. mengimplementasikan cara-cara yang efektif untuk memantau dan mengevaluasi masalah yang dihadapi'), Document(id='6c21b653-4ecd-4c01-b04a-0adfa4d81f1d', metadata={'producer': 'PyPDF', 'creator': 'PyPDF', 'creationdate': '', 'source': './data/PERMENPAN NOMOR 38 TAHUN 2017.pdf', 'total_pages': 108, 'page': 82, 'page_label': '83'}, page_content='untuk meningkatkan efektifitas organisasi 4.4 menginisiasi dan merepresentasikan pemerintah di lingkungan kerja dan masyarakat untuk senantiasa menjaga persatuan dan kesatuan dalam keberagaman dan menerima segala bentuk perbedaan dalam kehidupan'), Document(id='6e8f72b5-f711-4c70-bde0-6bcc5c32dd2a', metadata={'producer': 'PyPDF', 'creator': 'PyPDF', 'creationdate': '', 'source': './data/PERMENPAN NOMOR 38 TAHUN 2017.pdf', 'total_pages': 108, 'page': 18, 'page_label': '19'}, page_content='kompetensi a. syarat keanggotaan tim penyusun standar kompetensi persyaratan untuk dapat diangkat menjadi anggota tim adalah: 1) pns yang menduduki jabatan pimpinan tinggi, administrator, pengawas, pelaksana atau fungsional yang menangani pengelolaan jabatan/standarisasi jabatan; 2) telah mengikuti bimbingan teknis dan/atau mampu melakukan penyusunan kompetensi jabatan berdasarkan penilaian ppk; dan 3) syarat-syarat obyektif yang ditentukan oleh ppk, seperti pengalaman dan kemampuan lain yang diperlukan tim. b. susunan keanggotaan tim penyusun standar kompetensi 1) susunan keanggotaan tim penyusun standar kompetensi terdiri atas: a) seorang ketua merangkap anggota; b) seorang sekretaris merangkap anggota; dan'), Document(id='1c041adf-968f-43fd-80a0-780ec3d8e671', metadata={'producer': 'PyPDF', 'creator': 'PyPDF', 'creationdate': '', 'source': './data/PERMENPAN NOMOR 38 TAHUN 2017.pdf', 'total_pages': 108, 'page': 21, 'page_label': '22'}, page_content='dalam pemetaan fungsi-fungsi organisasi fokus pada organisasi lini, sedangkan organisasi yang bersifat fasilitatif (penunjang) seperti staf ahli menteri, kepala sekretariat presiden, kepala sekretariat wakil presiden, sekretaris militer presiden, kepala sekretariat dewan pertimbangan presiden, sekretaris daerah provinsi, kepala biro, sekretaris dewan perwakilan rakyat daerah, sekretaris direktorat jenderal, sekretaris inspektorat jenderal, sekretaris kepala kadan, asisten sekretariat daerah provinsi, sekretaris daerah kabupaten/kota dan lain-lain, tidak termasuk dalam identifikasi. 4. inventarisasi uraian tugas-tugas dan hasil kerja (output) dari jabatan pimpinan tinggi, jabatan fungsional dan jabatan administrasi yang merupakan penyelenggara urusan pemerintahan. 5. mengidentifikasi kompetensi teknis dan unit kompetensi yang diperlukan atau yang harus dimiliki oleh para pemangku jabatan dibutuhkan untuk menghasilkan kinerja yang unggul dalam menyelenggarakan urusan pemerintahan. dengan'), Document(id='f9b22dda-973b-404d-9d54-710e92e5587b', metadata={'producer': 'PyPDF', 'creator': 'PyPDF', 'creationdate': '', 'source': './data/PERMENPAN NOMOR 38 TAHUN 2017.pdf', 'total_pages': 108, 'page': 31, 'page_label': '32'}, page_content='dampak dan tanggung jawab. pada saat ini pangkat yang digunakan adalah yang sesuai dengan peraturan pemerintah nomor 7 tahun 1977 tentang peraturan gaji pns, dengan pangkat dari juru, penata, pengatur'), Document(id='d2acf69e-254f-4f91-aebb-4473836d4ee0', metadata={'producer': 'PyPDF', 'creator': 'PyPDF', 'creationdate': '', 'source': './data/PERMENPAN NOMOR 38 TAHUN 2017.pdf', 'total_pages': 108, 'page': 98, 'page_label': '99'}, page_content='tepat dengan menggunakan cara/media yang sesuai dan mengikuti alur yang logis; 1.5.memastikan pemahaman yang sama atas instruksi yang diterima/diberikan 1.6.mampu melaksanakan kegiatan surat menyurat sesuai tata naskah organisasi.'), Document(id='ffda5419-8397-49ae-b1e0-8a21b3917ba8', metadata={'producer': 'PyPDF', 'creator': 'PyPDF', 'creationdate': '', 'source': './data/PERMENPAN NOMOR 38 TAHUN 2017.pdf', 'total_pages': 108, 'page': 98, 'page_label': '99'}, page_content='sesuai etika dan kode etik. 2.2. menerapkan norma-norma secara konsisten dalam setiap situasi, pada unit kerja terkecil/kelompok kerjanya. 2.3. memberikan informasi yang dapat dipercaya sesuai dengan etika organisasi 2. kerjasama 2 menumbuhkan tim kerja yang partisipatif dan efektif 2.1 membantu orang lain dalam menyelesaikan tugas-tugas mereka untuk mendukung sasaran tim; 2.2. berbagi informasi yang relevan atau bermanfaat pada anggota tim; mempertimbangkan masukan dan keahlian anggota dalam tim/kelompok kerja serta bersedia untuk belajar dari orang lain; 2.3. membangun komitmen yang tinggi untuk menyelesaikan tugas tim. 3. komunikasi 1 menyampaikan informasi dengan jelas, lengkap, pemahaman yang sama 1.4.menyampaikan informasi (data), pikiran atau pendapat dengan jelas, singkat dan tepat dengan menggunakan cara/media yang sesuai dan mengikuti alur yang logis; 1.5.memastikan pemahaman yang sama atas instruksi yang diterima/diberikan 1.6.mampu melaksanakan kegiatan surat menyurat'), Document(id='24083b3a-573d-43f3-94b4-b0f5b284cd7a', metadata={'producer': 'PyPDF', 'creator': 'PyPDF', 'creationdate': '', 'source': './data/PERMENPAN NOMOR 38 TAHUN 2017.pdf', 'total_pages': 108, 'page': 42, 'page_label': '43'}, page_content='untuk mendorong kesepakatan dengan tujuan meningkatkan kinerja secara 4.1. mengintegrasikan informasi-informasi penting dari berbagai sumber dengan pihak lain untuk mendapatkan pemahaman yang sama; 4.2. menuangkan pemikiran/konsep dari berbagai sudut pandang/ multidimensi dalam bentuk tulisan formal; 4.3. menyampaikan informasi secara persuasif untuk mendorong pemangku kepentingan sepakat pada langkah-langkah bersama dengan'), Document(id='d31a99d1-72a1-41da-8e7f-ea305e046fbd', metadata={'producer': 'PyPDF', 'creator': 'PyPDF', 'creationdate': '', 'source': './data/PERMENPAN NOMOR 38 TAHUN 2017.pdf', 'total_pages': 108, 'page': 27, 'page_label': '28'}, page_content='4 .................. 4.1 ................................ 4.2 ................................. 4.3. ................................ 5 .................. 5.1 ................................ 5.2 ................................. 5.3. ................................ 10. menyelenggarakan workshop/lokakarya dengan mengundang instansi terkait, para ahli terkait urusan pemerintahan, asosiasi profesi, lembaga swadaya masyarakat terkait untuk memperoleh masukan yang komprehensif seluruh aspek kompetensi yang diperlukan untuk menyelenggarakan suatu urusan pemerintahan. 11. menyempurnakan rumusan kamus kompetensi teknis secara komprehensif berdasarkan masukan hasil workshop. 12. ppk menyampaikan kamus kompetensi teknis yang telah disusun kepada menteri untuk mendapatkan persetujuan. 13. ppk menetapkan keputusan tentang kamus kompetensi teknis urusan pemerintahan tertentu setelah mendapat persetujuan menteri. 14. instansi penyusun kamus kompetensi teknis dan kementerian pendayagunaan aparatur')]\n"
     ]
    },
    {
     "data": {
      "text/plain": [
       "[Document(id='1facc327-cf6b-4d20-8d3d-742c9b47d021', metadata={'producer': 'PyPDF', 'creator': 'PyPDF', 'creationdate': '', 'source': './data/PERMENPAN NOMOR 38 TAHUN 2017.pdf', 'total_pages': 108, 'page': 73, 'page_label': '74'}, page_content='pemahaman yang sama atas instruksi yang diterima/diberikan 1.3.mampu melaksanakan kegiatan surat menyurat sesuai tata naskah organisasi. 4. orientasi pada hasil 1 bertanggung jawab untuk 1.1.menyelesaikan tugas dengan tuntas; dapat diandalkan;'),\n",
       " Document(id='78d324cd-6388-41dc-8fb3-a146528832c6', metadata={'producer': 'PyPDF', 'creator': 'PyPDF', 'creationdate': '', 'source': './data/PERMENPAN NOMOR 38 TAHUN 2017.pdf', 'total_pages': 108, 'page': 45, 'page_label': '46'}, page_content='dan pemahaman lintas organisasi untuk secara efektif memfasilitasi kebutuhan kelompok yang lebih besar dengan cara-cara yang mengikuti standar objektif, transparan, profesional, sehingga tidak merugikan para pihak di lingkup pelayanan publik unit kerjanya; 3.3. mengimplementasikan cara-cara yang efektif untuk memantau dan mengevaluasi masalah yang dihadapi'),\n",
       " Document(id='6c21b653-4ecd-4c01-b04a-0adfa4d81f1d', metadata={'producer': 'PyPDF', 'creator': 'PyPDF', 'creationdate': '', 'source': './data/PERMENPAN NOMOR 38 TAHUN 2017.pdf', 'total_pages': 108, 'page': 82, 'page_label': '83'}, page_content='untuk meningkatkan efektifitas organisasi 4.4 menginisiasi dan merepresentasikan pemerintah di lingkungan kerja dan masyarakat untuk senantiasa menjaga persatuan dan kesatuan dalam keberagaman dan menerima segala bentuk perbedaan dalam kehidupan'),\n",
       " Document(id='6e8f72b5-f711-4c70-bde0-6bcc5c32dd2a', metadata={'producer': 'PyPDF', 'creator': 'PyPDF', 'creationdate': '', 'source': './data/PERMENPAN NOMOR 38 TAHUN 2017.pdf', 'total_pages': 108, 'page': 18, 'page_label': '19'}, page_content='kompetensi a. syarat keanggotaan tim penyusun standar kompetensi persyaratan untuk dapat diangkat menjadi anggota tim adalah: 1) pns yang menduduki jabatan pimpinan tinggi, administrator, pengawas, pelaksana atau fungsional yang menangani pengelolaan jabatan/standarisasi jabatan; 2) telah mengikuti bimbingan teknis dan/atau mampu melakukan penyusunan kompetensi jabatan berdasarkan penilaian ppk; dan 3) syarat-syarat obyektif yang ditentukan oleh ppk, seperti pengalaman dan kemampuan lain yang diperlukan tim. b. susunan keanggotaan tim penyusun standar kompetensi 1) susunan keanggotaan tim penyusun standar kompetensi terdiri atas: a) seorang ketua merangkap anggota; b) seorang sekretaris merangkap anggota; dan'),\n",
       " Document(id='1c041adf-968f-43fd-80a0-780ec3d8e671', metadata={'producer': 'PyPDF', 'creator': 'PyPDF', 'creationdate': '', 'source': './data/PERMENPAN NOMOR 38 TAHUN 2017.pdf', 'total_pages': 108, 'page': 21, 'page_label': '22'}, page_content='dalam pemetaan fungsi-fungsi organisasi fokus pada organisasi lini, sedangkan organisasi yang bersifat fasilitatif (penunjang) seperti staf ahli menteri, kepala sekretariat presiden, kepala sekretariat wakil presiden, sekretaris militer presiden, kepala sekretariat dewan pertimbangan presiden, sekretaris daerah provinsi, kepala biro, sekretaris dewan perwakilan rakyat daerah, sekretaris direktorat jenderal, sekretaris inspektorat jenderal, sekretaris kepala kadan, asisten sekretariat daerah provinsi, sekretaris daerah kabupaten/kota dan lain-lain, tidak termasuk dalam identifikasi. 4. inventarisasi uraian tugas-tugas dan hasil kerja (output) dari jabatan pimpinan tinggi, jabatan fungsional dan jabatan administrasi yang merupakan penyelenggara urusan pemerintahan. 5. mengidentifikasi kompetensi teknis dan unit kompetensi yang diperlukan atau yang harus dimiliki oleh para pemangku jabatan dibutuhkan untuk menghasilkan kinerja yang unggul dalam menyelenggarakan urusan pemerintahan. dengan'),\n",
       " Document(id='f9b22dda-973b-404d-9d54-710e92e5587b', metadata={'producer': 'PyPDF', 'creator': 'PyPDF', 'creationdate': '', 'source': './data/PERMENPAN NOMOR 38 TAHUN 2017.pdf', 'total_pages': 108, 'page': 31, 'page_label': '32'}, page_content='dampak dan tanggung jawab. pada saat ini pangkat yang digunakan adalah yang sesuai dengan peraturan pemerintah nomor 7 tahun 1977 tentang peraturan gaji pns, dengan pangkat dari juru, penata, pengatur'),\n",
       " Document(id='d2acf69e-254f-4f91-aebb-4473836d4ee0', metadata={'producer': 'PyPDF', 'creator': 'PyPDF', 'creationdate': '', 'source': './data/PERMENPAN NOMOR 38 TAHUN 2017.pdf', 'total_pages': 108, 'page': 98, 'page_label': '99'}, page_content='tepat dengan menggunakan cara/media yang sesuai dan mengikuti alur yang logis; 1.5.memastikan pemahaman yang sama atas instruksi yang diterima/diberikan 1.6.mampu melaksanakan kegiatan surat menyurat sesuai tata naskah organisasi.'),\n",
       " Document(id='ffda5419-8397-49ae-b1e0-8a21b3917ba8', metadata={'producer': 'PyPDF', 'creator': 'PyPDF', 'creationdate': '', 'source': './data/PERMENPAN NOMOR 38 TAHUN 2017.pdf', 'total_pages': 108, 'page': 98, 'page_label': '99'}, page_content='sesuai etika dan kode etik. 2.2. menerapkan norma-norma secara konsisten dalam setiap situasi, pada unit kerja terkecil/kelompok kerjanya. 2.3. memberikan informasi yang dapat dipercaya sesuai dengan etika organisasi 2. kerjasama 2 menumbuhkan tim kerja yang partisipatif dan efektif 2.1 membantu orang lain dalam menyelesaikan tugas-tugas mereka untuk mendukung sasaran tim; 2.2. berbagi informasi yang relevan atau bermanfaat pada anggota tim; mempertimbangkan masukan dan keahlian anggota dalam tim/kelompok kerja serta bersedia untuk belajar dari orang lain; 2.3. membangun komitmen yang tinggi untuk menyelesaikan tugas tim. 3. komunikasi 1 menyampaikan informasi dengan jelas, lengkap, pemahaman yang sama 1.4.menyampaikan informasi (data), pikiran atau pendapat dengan jelas, singkat dan tepat dengan menggunakan cara/media yang sesuai dan mengikuti alur yang logis; 1.5.memastikan pemahaman yang sama atas instruksi yang diterima/diberikan 1.6.mampu melaksanakan kegiatan surat menyurat'),\n",
       " Document(id='24083b3a-573d-43f3-94b4-b0f5b284cd7a', metadata={'producer': 'PyPDF', 'creator': 'PyPDF', 'creationdate': '', 'source': './data/PERMENPAN NOMOR 38 TAHUN 2017.pdf', 'total_pages': 108, 'page': 42, 'page_label': '43'}, page_content='untuk mendorong kesepakatan dengan tujuan meningkatkan kinerja secara 4.1. mengintegrasikan informasi-informasi penting dari berbagai sumber dengan pihak lain untuk mendapatkan pemahaman yang sama; 4.2. menuangkan pemikiran/konsep dari berbagai sudut pandang/ multidimensi dalam bentuk tulisan formal; 4.3. menyampaikan informasi secara persuasif untuk mendorong pemangku kepentingan sepakat pada langkah-langkah bersama dengan'),\n",
       " Document(id='d31a99d1-72a1-41da-8e7f-ea305e046fbd', metadata={'producer': 'PyPDF', 'creator': 'PyPDF', 'creationdate': '', 'source': './data/PERMENPAN NOMOR 38 TAHUN 2017.pdf', 'total_pages': 108, 'page': 27, 'page_label': '28'}, page_content='4 .................. 4.1 ................................ 4.2 ................................. 4.3. ................................ 5 .................. 5.1 ................................ 5.2 ................................. 5.3. ................................ 10. menyelenggarakan workshop/lokakarya dengan mengundang instansi terkait, para ahli terkait urusan pemerintahan, asosiasi profesi, lembaga swadaya masyarakat terkait untuk memperoleh masukan yang komprehensif seluruh aspek kompetensi yang diperlukan untuk menyelenggarakan suatu urusan pemerintahan. 11. menyempurnakan rumusan kamus kompetensi teknis secara komprehensif berdasarkan masukan hasil workshop. 12. ppk menyampaikan kamus kompetensi teknis yang telah disusun kepada menteri untuk mendapatkan persetujuan. 13. ppk menetapkan keputusan tentang kamus kompetensi teknis urusan pemerintahan tertentu setelah mendapat persetujuan menteri. 14. instansi penyusun kamus kompetensi teknis dan kementerian pendayagunaan aparatur')]"
      ]
     },
     "execution_count": 16,
     "metadata": {},
     "output_type": "execute_result"
    }
   ],
   "source": [
    "# Menjalankan query melalui RAG Chain\n",
    "response = rag_chain.invoke(query)\n",
    "\n",
    "print(\"\\nPERTANYAAN:\")\n",
    "print(query)\n",
    "\n",
    "print(\"\\nJAWABAN YANG DIHASILKAN LLM:\")\n",
    "print(response['result'])\n",
    "\n",
    "print(\"\\nDOCUMENT:\")\n",
    "print(response['source_documents'])\n",
    "\n",
    "\n",
    "retrieved_docs"
   ]
  },
  {
   "cell_type": "markdown",
   "id": "76967eec",
   "metadata": {},
   "source": [
    "### Rag untuk penilaian\n"
   ]
  },
  {
   "cell_type": "code",
   "execution_count": null,
   "id": "a406c08b",
   "metadata": {},
   "outputs": [],
   "source": [
    "llm_assessor = ChatOpenAI(\n",
    "    base_url=BASE_URL,\n",
    "    api_key=API_KEY,\n",
    "    model=\"Qwen/Qwen2.5-coder-1.5B-Instruct\",\n",
    "    temperature=0.3, \n",
    "    max_tokens=512,\n",
    "    streaming=False,\n",
    "    verbose=False,\n",
    ")"
   ]
  },
  {
   "cell_type": "code",
   "execution_count": null,
   "id": "e1c7bf9c",
   "metadata": {},
   "outputs": [],
   "source": [
    "from prompt.prompt import MANAGERIAL_ASSESSMENT_PROMPT\n",
    "from langchain.chains import LLMChain\n",
    "\n",
    "\n",
    "# LLM CHAIN \n",
    "assesment_chain =  LLMChain(\n",
    "    llm = llm_assessor, \n",
    "    prompt= MANAGERIAL_ASSESSMENT_PROMPT\n",
    ")\n",
    "\n",
    "\n",
    "def competency_asessment(nama, jabatan, jawaban_test, kompetensi, level_target) : \n",
    "    query = f\"kompetensi {kompetensi} level {level_target} indikator perilaku\"\n",
    "    relevant_docs = retriever.get_relevant_documents(query)\n",
    "    context = \"\\n\".join([doc.page_content for doc in relevant_docs])\n",
    "\n",
    "    assesment_chain_result = assesment_chain.invoke({\n",
    "        \"context\": context,\n",
    "        \"nama\": nama,\n",
    "        \"jabatan\": jabatan,\n",
    "        \"jawaban\": jawaban_test,\n",
    "        \"kompetensi\": kompetensi,\n",
    "        \"level_target\": level_target\n",
    "    })\n",
    "\n",
    "    return {\n",
    "        \"hasil\": assesment_chain_result['text'],\n",
    "        \"sumber\": relevant_docs  \n",
    "    }\n",
    "    \n"
   ]
  },
  {
   "cell_type": "code",
   "execution_count": null,
   "id": "7b3c4816",
   "metadata": {},
   "outputs": [
    {
     "name": "stdout",
     "output_type": "stream",
     "text": [
      "Penilaian ke 1 dengan nama Budi Santoso\n",
      "Jabatan Kepala Seksi\n",
      "============================================================\n",
      "Hasil Penilaian\n",
      "### HASIL PENILAIAN\n",
      "\n",
      "#### SKOR: 3\n",
      "#### JUSTIFIKASI:\n",
      "Budi Santoso berhasil menyelesaikan konflik tim dengan baik. Dia mengumpulkan semua pihak untuk mendengarkan perspektif masing-masing dan mencari titik temu yang menguntungkan semua pihak. Namun, ia juga melakukan monitoring berkala dan evaluasi hasil, yang membuat penyelesaian menjadi lebih efektif. \n",
      "\n",
      "#### REKOMENDASI:\n",
      "Berdasarkan penilaian, Budi Santoso telah mencapai level 3 dalam kompetensi Kerjasama. Namun, ia bisa meningkatkan pengetahuan tentang cara mengimplementasikan penyelesaian konflik tim dengan lebih efektif. Misalnya, ia bisa belajar lebih banyak tentang metode monitoring dan evaluasi yang efektif, atau belajar bagaimana mengidentifikasi dan menganalisis masalah konflik tim.\n",
      "\n",
      " DOKUMEN SUMBER:\n",
      "------------------------------\n",
      "  Sumber #1 (Halaman: 1):\n",
      "  \"indonesia nomor 5494); 2. peraturan pemerintah nomor 11 tahun 2017 tentang manajemen pegawai negeri sipil (lembaran negara republik indonesia tahun 2017 nomor 63, tambahan lembaran negara republik indonesia nomor 6037); 3. peraturan presiden nomor 8...\"\n",
      "\n",
      "  Sumber #2 (Halaman: 32):\n",
      "  \"dampak dan tanggung jawab. pada saat ini pangkat yang digunakan adalah yang sesuai dengan peraturan pemerintah nomor 7 tahun 1977 tentang peraturan gaji pns, dengan pangkat dari juru, penata, pengatur...\"\n",
      "\n",
      "  Sumber #3 (Halaman: 33):\n",
      "  \"dan pembina dengan golongan ruang dari i/a sampai dengan iv/e, apabila sistem kepangkatan yang digunakan untuk pengajian mengalami perubahan maka rumusan pangkat menyesuaikan dengan peraturan perundang-undangan terkait. 6. ukuran kinerja jabatan ukur...\"\n",
      "\n",
      "  Sumber #4 (Halaman: 74):\n",
      "  \"pemahaman yang sama atas instruksi yang diterima/diberikan 1.3.mampu melaksanakan kegiatan surat menyurat sesuai tata naskah organisasi. 4. orientasi pada hasil 1 bertanggung jawab untuk 1.1.menyelesaikan tugas dengan tuntas; dapat diandalkan;...\"\n",
      "\n",
      "  Sumber #5 (Halaman: 46):\n",
      "  \"dan pemahaman lintas organisasi untuk secara efektif memfasilitasi kebutuhan kelompok yang lebih besar dengan cara-cara yang mengikuti standar objektif, transparan, profesional, sehingga tidak merugikan para pihak di lingkup pelayanan publik unit ker...\"\n",
      "\n",
      "  Sumber #6 (Halaman: 92):\n",
      "  \"d. pangkat …………………………………… *19) e. indikator kinerja jabatan .............................................*20). a. jabatan fungsional keterampilan 1. standar kompetensi jabatan fungsional penyelia formulir standar kompetensi jabatan fungsional penyeli...\"\n",
      "\n",
      "  Sumber #7 (Halaman: 45):\n",
      "  \"dalam melaksanakan tugas-tugas pemerintahan, pembangunan dan kegiatan pemenuhan kebutuhan pelayanan publik secara profesional, transparan, mengikuti standar pelayanan yang objektif, netral, tidak memihak, tidak diskriminatif, serta tidak terpengaruh...\"\n",
      "\n",
      "  Sumber #8 (Halaman: 47):\n",
      "  \"tidak memihak, tidak diskriminatif, serta tidak terpengaruh kepentingan pribadi/kelompok/partai politik. 5.2. menginternalisasikan nilai dan semangat pelayanan publik yang mengikuti standar objektif, netral, tidak memihak, tidak diskriminatif, transp...\"\n",
      "\n",
      "  Sumber #9 (Halaman: 40):\n",
      "  \"bertindak sesuai nilai, norma, dan etika organisasi, dalam lingkup formal 3.1. memastikan anggota yang dipimpin bertindak sesuai dengan nilai, norma, dan etika organisasi dalam segala situasi dan kondisi. 3.2. mampu untuk memberi apresiasi dan tegura...\"\n",
      "\n",
      "  Sumber #10 (Halaman: 10):\n",
      "  \"agar setiap orang mengetahuinya, memerintahkan pengundangan peraturan menteri ini dengan penempatannya dalam berita negara republik indonesia. ditetapkan di jakarta pada tanggal 27 desember 2017 menteri pendayagunaan aparatur negara dan reformasi bir...\"\n",
      "\n",
      "Penilaian ke 2 dengan nama Siti Rahayu\n",
      "Jabatan Analis Kepegawaian\n",
      "============================================================\n",
      "Hasil Penilaian\n",
      "SKOR: 3\n",
      "JUSTIFIKASI: Siti Rahayu telah melakukan analisis kebutuhan berdasarkan rencana strategis organisasi. Namun, ia belum mencatatkan proses analisis yang dilakukan, seperti data historis dan proyeksi kebutuhan. Selain itu, ia belum mempertimbangkan aspek pengembangan karir dan sukses planning. Oleh karena itu, Siti Rahayu belum memenuhi semua indikator untuk level 2.\n",
      "REKOMENDASI: Siti Rahayu harus mencatat proses analisis yang dilakukan dan mempertimbangkan aspek pengembangan karir dan sukses planning. Ini akan membantu meningkatkan kualitas analisis dan membuat Siti Rahayu lebih baik dalam menyelesaikan tugas.\n",
      "\n",
      " DOKUMEN SUMBER:\n",
      "------------------------------\n",
      "  Sumber #1 (Halaman: 1):\n",
      "  \"indonesia nomor 5494); 2. peraturan pemerintah nomor 11 tahun 2017 tentang manajemen pegawai negeri sipil (lembaran negara republik indonesia tahun 2017 nomor 63, tambahan lembaran negara republik indonesia nomor 6037); 3. peraturan presiden nomor 8...\"\n",
      "\n",
      "  Sumber #2 (Halaman: 33):\n",
      "  \"dan pembina dengan golongan ruang dari i/a sampai dengan iv/e, apabila sistem kepangkatan yang digunakan untuk pengajian mengalami perubahan maka rumusan pangkat menyesuaikan dengan peraturan perundang-undangan terkait. 6. ukuran kinerja jabatan ukur...\"\n",
      "\n",
      "  Sumber #3 (Halaman: 32):\n",
      "  \"dampak dan tanggung jawab. pada saat ini pangkat yang digunakan adalah yang sesuai dengan peraturan pemerintah nomor 7 tahun 1977 tentang peraturan gaji pns, dengan pangkat dari juru, penata, pengatur...\"\n",
      "\n",
      "  Sumber #4 (Halaman: 45):\n",
      "  \"dalam melaksanakan tugas-tugas pemerintahan, pembangunan dan kegiatan pemenuhan kebutuhan pelayanan publik secara profesional, transparan, mengikuti standar pelayanan yang objektif, netral, tidak memihak, tidak diskriminatif, serta tidak terpengaruh...\"\n",
      "\n",
      "  Sumber #5 (Halaman: 47):\n",
      "  \"tidak memihak, tidak diskriminatif, serta tidak terpengaruh kepentingan pribadi/kelompok/partai politik. 5.2. menginternalisasikan nilai dan semangat pelayanan publik yang mengikuti standar objektif, netral, tidak memihak, tidak diskriminatif, transp...\"\n",
      "\n",
      "  Sumber #6 (Halaman: 46):\n",
      "  \"dan pemahaman lintas organisasi untuk secara efektif memfasilitasi kebutuhan kelompok yang lebih besar dengan cara-cara yang mengikuti standar objektif, transparan, profesional, sehingga tidak merugikan para pihak di lingkup pelayanan publik unit ker...\"\n",
      "\n",
      "  Sumber #7 (Halaman: 34):\n",
      "  \"berperan dan berkontribusi penting sebagai penunjang untuk mencapai kinerja suatu jabatan yang lebih optimal, kekurangan atau ketiadaan kompetensi ini menyebakan kinerja jabatan tidak optimal, dan keberadaan kompetensi ini akan memberikan nilai tamba...\"\n",
      "\n",
      "  Sumber #8 (Halaman: 74):\n",
      "  \"pemahaman yang sama atas instruksi yang diterima/diberikan 1.3.mampu melaksanakan kegiatan surat menyurat sesuai tata naskah organisasi. 4. orientasi pada hasil 1 bertanggung jawab untuk 1.1.menyelesaikan tugas dengan tuntas; dapat diandalkan;...\"\n",
      "\n",
      "  Sumber #9 (Halaman: 40):\n",
      "  \"bertindak sesuai nilai, norma, dan etika organisasi, dalam lingkup formal 3.1. memastikan anggota yang dipimpin bertindak sesuai dengan nilai, norma, dan etika organisasi dalam segala situasi dan kondisi. 3.2. mampu untuk memberi apresiasi dan tegura...\"\n",
      "\n",
      "  Sumber #10 (Halaman: 92):\n",
      "  \"d. pangkat …………………………………… *19) e. indikator kinerja jabatan .............................................*20). a. jabatan fungsional keterampilan 1. standar kompetensi jabatan fungsional penyelia formulir standar kompetensi jabatan fungsional penyeli...\"\n",
      "\n",
      "Penilaian ke 3 dengan nama Ani Suryani\n",
      "Jabatan Inspektur Madya\n",
      "============================================================\n",
      "Hasil Penilaian\n",
      "### HASIL PENILAIAN\n",
      "\n",
      "#### SKOR: 4\n",
      "#### JUSTIFIKASI:\n",
      "Ani Suryani telah merujuk kepada peraturan yang berlaku dan melakukan verifikasi silang terhadap data dan peraturan yang berlaku tanpa memandang siapa yang terlibat. Saya memastikan semua temuan didukung oleh bukti yang kuat dan melaporkannya sesuai prosedur meskipun ada tekanan dari berbagai pihak. Ini menunjukkan bahwa Ani Suryani telah memenuhi standar kompetensi \"Integritas\" pada level 4.\n",
      "\n",
      "#### REKOMENDASI:\n",
      "1. **Penyempurnaan Proses Verifikasi:** Ani Suryani bisa meningkatkan proses verifikasi dengan menggunakan metode lebih akurat dan efektif, seperti audit atau penelitian, untuk memastikan keseluruhan data dan peraturan yang berlaku.\n",
      "2. **Pelatihan:** Ani Suryani dapat melakukan pelatihan terkait peraturan dan prosedur untuk meningkatkan kemampuannya dalam melakukan verifikasi silang.\n",
      "3. **Kepemimpinan:** Ani Suryani bisa menjadi lebih aktif dalam memimpin tim untuk menjaga integritas dan transparansi dalam proses verifikasi.\n",
      "\n",
      "### PENGAMBANGAN KOMPETENSI:\n",
      "\n",
      "**Manajerial**\n",
      "1. **Integritas**\n",
      "   - **Indikator:** Memastikan anggota yang dipimpin bertindak sesuai nilai, norma, dan etika organisasi, dalam lingkup formal.\n",
      "   - **Ketentuan:** Menyampaikan informasi yang relevan dan jelas kepada semua anggota tim.\n",
      "   - **Saran:** Melakukan penilaian lebih lanjut tentang bagaimana anggota tim bekerja dan mempertimbangkan apa yang mereka lakukan dan apa yang mereka tidak lakukan.\n",
      "\n",
      "**Inspektur Madya**\n",
      "1. **Integritas**\n",
      "   - **Indikator:** Memastikan anggota yang dipimpin bertindak sesuai nilai, norma, dan etika organisasi, dalam lingkup formal.\n",
      "   - **Ketentuan:** Mengumpulkan dan menyimpan data yang relevan dan jelas kepada semua anggota tim.\n",
      "   - **Saran:** Melakukan\n",
      "\n",
      " DOKUMEN SUMBER:\n",
      "------------------------------\n",
      "  Sumber #1 (Halaman: 1):\n",
      "  \"indonesia nomor 5494); 2. peraturan pemerintah nomor 11 tahun 2017 tentang manajemen pegawai negeri sipil (lembaran negara republik indonesia tahun 2017 nomor 63, tambahan lembaran negara republik indonesia nomor 6037); 3. peraturan presiden nomor 8...\"\n",
      "\n",
      "  Sumber #2 (Halaman: 32):\n",
      "  \"dampak dan tanggung jawab. pada saat ini pangkat yang digunakan adalah yang sesuai dengan peraturan pemerintah nomor 7 tahun 1977 tentang peraturan gaji pns, dengan pangkat dari juru, penata, pengatur...\"\n",
      "\n",
      "  Sumber #3 (Halaman: 33):\n",
      "  \"dan pembina dengan golongan ruang dari i/a sampai dengan iv/e, apabila sistem kepangkatan yang digunakan untuk pengajian mengalami perubahan maka rumusan pangkat menyesuaikan dengan peraturan perundang-undangan terkait. 6. ukuran kinerja jabatan ukur...\"\n",
      "\n",
      "  Sumber #4 (Halaman: 74):\n",
      "  \"pemahaman yang sama atas instruksi yang diterima/diberikan 1.3.mampu melaksanakan kegiatan surat menyurat sesuai tata naskah organisasi. 4. orientasi pada hasil 1 bertanggung jawab untuk 1.1.menyelesaikan tugas dengan tuntas; dapat diandalkan;...\"\n",
      "\n",
      "  Sumber #5 (Halaman: 46):\n",
      "  \"dan pemahaman lintas organisasi untuk secara efektif memfasilitasi kebutuhan kelompok yang lebih besar dengan cara-cara yang mengikuti standar objektif, transparan, profesional, sehingga tidak merugikan para pihak di lingkup pelayanan publik unit ker...\"\n",
      "\n",
      "  Sumber #6 (Halaman: 45):\n",
      "  \"dalam melaksanakan tugas-tugas pemerintahan, pembangunan dan kegiatan pemenuhan kebutuhan pelayanan publik secara profesional, transparan, mengikuti standar pelayanan yang objektif, netral, tidak memihak, tidak diskriminatif, serta tidak terpengaruh...\"\n",
      "\n",
      "  Sumber #7 (Halaman: 47):\n",
      "  \"tidak memihak, tidak diskriminatif, serta tidak terpengaruh kepentingan pribadi/kelompok/partai politik. 5.2. menginternalisasikan nilai dan semangat pelayanan publik yang mengikuti standar objektif, netral, tidak memihak, tidak diskriminatif, transp...\"\n",
      "\n",
      "  Sumber #8 (Halaman: 34):\n",
      "  \"berperan dan berkontribusi penting sebagai penunjang untuk mencapai kinerja suatu jabatan yang lebih optimal, kekurangan atau ketiadaan kompetensi ini menyebakan kinerja jabatan tidak optimal, dan keberadaan kompetensi ini akan memberikan nilai tamba...\"\n",
      "\n",
      "  Sumber #9 (Halaman: 40):\n",
      "  \"bertindak sesuai nilai, norma, dan etika organisasi, dalam lingkup formal 3.1. memastikan anggota yang dipimpin bertindak sesuai dengan nilai, norma, dan etika organisasi dalam segala situasi dan kondisi. 3.2. mampu untuk memberi apresiasi dan tegura...\"\n",
      "\n",
      "  Sumber #10 (Halaman: 92):\n",
      "  \"d. pangkat …………………………………… *19) e. indikator kinerja jabatan .............................................*20). a. jabatan fungsional keterampilan 1. standar kompetensi jabatan fungsional penyelia formulir standar kompetensi jabatan fungsional penyeli...\"\n",
      "\n"
     ]
    }
   ],
   "source": [
    "test_cases = [\n",
    "    {\n",
    "        \"nama\": \"Budi Santoso\",\n",
    "        \"jabatan\": \"Kepala Seksi\",\n",
    "        \"jawaban_test\": \"\"\"\n",
    "        Dalam menyelesaikan konflik tim, saya pertama-tama mengumpulkan semua pihak \n",
    "        untuk mendengarkan perspektif masing-masing. Saya menggunakan pendekatan win-win solution \n",
    "        dengan mencari titik temu yang menguntungkan semua pihak. Setelah mencapai kesepakatan, \n",
    "        saya memastikan implementasinya dengan monitoring berkala dan evaluasi hasil.\n",
    "        \"\"\",\n",
    "        \"kompetensi\": \"Kerjasama\",\n",
    "        \"level_target\": 3\n",
    "    },\n",
    "    {\n",
    "        \"nama\": \"Siti Rahayu\",\n",
    "        \"jabatan\": \"Analis Kepegawaian\",\n",
    "        \"kompetensi\": \"Manajemen SDM\", \n",
    "        \"jawaban_test\": \"\"\"\n",
    "        Untuk menyusun perencanaan SDM, saya melakukan analisis kebutuhan berdasarkan \n",
    "        rencana strategis organisasi. Saya menggunakan data historis dan proyeksi kebutuhan \n",
    "        untuk menentukan jumlah dan kualifikasi pegawai yang dibutuhkan. \n",
    "        Saya juga mempertimbangkan aspek pengembangan karir dan suksesi planning.\n",
    "        \"\"\",\n",
    "        \"level_target\": 2\n",
    "    },\n",
    "    {\n",
    "        \"nama\": \"Ani Suryani\",\n",
    "        \"jabatan\": \"Inspektur Madya\",\n",
    "        \"jawaban_test\": \"\"\"\n",
    "        Ketika menemukan adanya potensi penyalahgunaan wewenang di laporan, saya langsung\n",
    "        melakukan verifikasi silang terhadap data dan peraturan yang berlaku tanpa memandang\n",
    "        siapa yang terlibat. Saya memastikan semua temuan didukung oleh bukti yang kuat\n",
    "        dan melaporkannya sesuai prosedur meskipun ada tekanan dari berbagai pihak.\n",
    "        \"\"\",\n",
    "        \"kompetensi\": \"Integritas\",\n",
    "        \"level_target\": 4\n",
    "    }\n",
    "]\n",
    "\n",
    "\n",
    "for i, person in enumerate (test_cases, 1): \n",
    "    print(f\"Penilaian ke {i} dengan nama {person[\"nama\"]}\")\n",
    "    print(f\"Jabatan {person[\"jabatan\"]}\")\n",
    "    print(\"=\"*60)\n",
    "\n",
    "    hasil_penilaian = competency_asessment(\n",
    "        nama=person[\"nama\"],\n",
    "        jabatan=person[\"jabatan\"],\n",
    "        jawaban_test=person[\"jawaban_test\"],\n",
    "        kompetensi=person[\"kompetensi\"],\n",
    "        level_target=person[\"level_target\"]\n",
    "    )\n",
    "\n",
    "    print(\"Hasil Penilaian\")\n",
    "    print(hasil_penilaian[\"hasil\"])\n",
    "\n",
    "    print(\"\\n DOKUMEN SUMBER:\")\n",
    "    print(\"-\" * 30)\n",
    "    for doc_num, doc in enumerate(hasil_penilaian['sumber'], 1):\n",
    "        page_label = doc.metadata.get('page_label', 'N/A')\n",
    "        print(f\"  Sumber #{doc_num} (Halaman: {page_label}):\")\n",
    "        print(f\"  \\\"{doc.page_content[:250].strip()}...\\\"\\n\") \n",
    "        "
   ]
  }
 ],
 "metadata": {
  "kernelspec": {
   "display_name": "demo-rag-env",
   "language": "python",
   "name": "python3"
  },
  "language_info": {
   "codemirror_mode": {
    "name": "ipython",
    "version": 3
   },
   "file_extension": ".py",
   "mimetype": "text/x-python",
   "name": "python",
   "nbconvert_exporter": "python",
   "pygments_lexer": "ipython3",
   "version": "3.13.8"
  }
 },
 "nbformat": 4,
 "nbformat_minor": 5
}
